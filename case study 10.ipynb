{
 "cells": [
  {
   "cell_type": "code",
   "execution_count": 1,
   "metadata": {},
   "outputs": [],
   "source": [
    "#importing libraries\n",
    "import numpy as np\n",
    "import pandas as pd\n",
    "import matplotlib.pyplot as plt\n",
    "import seaborn as sns\n",
    "\n",
    "# ignore warnings\n",
    "import warnings\n",
    "warnings.filterwarnings('ignore')"
   ]
  },
  {
   "cell_type": "code",
   "execution_count": 2,
   "metadata": {},
   "outputs": [],
   "source": [
    "#reading dataset\n",
    "df= pd.read_csv('Cricket.csv',encoding= 'unicode_escape')"
   ]
  },
  {
   "cell_type": "code",
   "execution_count": 3,
   "metadata": {},
   "outputs": [
    {
     "data": {
      "text/html": [
       "<div>\n",
       "<style scoped>\n",
       "    .dataframe tbody tr th:only-of-type {\n",
       "        vertical-align: middle;\n",
       "    }\n",
       "\n",
       "    .dataframe tbody tr th {\n",
       "        vertical-align: top;\n",
       "    }\n",
       "\n",
       "    .dataframe thead th {\n",
       "        text-align: right;\n",
       "    }\n",
       "</style>\n",
       "<table border=\"1\" class=\"dataframe\">\n",
       "  <thead>\n",
       "    <tr style=\"text-align: right;\">\n",
       "      <th></th>\n",
       "      <th>Player</th>\n",
       "      <th>Span</th>\n",
       "      <th>Mat</th>\n",
       "      <th>Inns</th>\n",
       "      <th>NO</th>\n",
       "      <th>Runs</th>\n",
       "      <th>HS</th>\n",
       "      <th>Ave</th>\n",
       "      <th>BF</th>\n",
       "      <th>SR</th>\n",
       "      <th>100</th>\n",
       "      <th>50</th>\n",
       "      <th>0</th>\n",
       "    </tr>\n",
       "  </thead>\n",
       "  <tbody>\n",
       "    <tr>\n",
       "      <td>0</td>\n",
       "      <td>SR Tendulkar (INDIA)</td>\n",
       "      <td>1989-2012</td>\n",
       "      <td>463</td>\n",
       "      <td>452</td>\n",
       "      <td>41</td>\n",
       "      <td>18426</td>\n",
       "      <td>200*</td>\n",
       "      <td>44.83</td>\n",
       "      <td>21367</td>\n",
       "      <td>86.23</td>\n",
       "      <td>49</td>\n",
       "      <td>96</td>\n",
       "      <td>20</td>\n",
       "    </tr>\n",
       "    <tr>\n",
       "      <td>1</td>\n",
       "      <td>KC Sangakkara (Asia/ICC/SL)</td>\n",
       "      <td>2000-2015</td>\n",
       "      <td>404</td>\n",
       "      <td>380</td>\n",
       "      <td>41</td>\n",
       "      <td>14234</td>\n",
       "      <td>169</td>\n",
       "      <td>41.98</td>\n",
       "      <td>18048</td>\n",
       "      <td>78.86</td>\n",
       "      <td>25</td>\n",
       "      <td>93</td>\n",
       "      <td>15</td>\n",
       "    </tr>\n",
       "    <tr>\n",
       "      <td>2</td>\n",
       "      <td>RT Ponting (AUS/ICC)</td>\n",
       "      <td>1995-2012</td>\n",
       "      <td>375</td>\n",
       "      <td>365</td>\n",
       "      <td>39</td>\n",
       "      <td>13704</td>\n",
       "      <td>164</td>\n",
       "      <td>42.03</td>\n",
       "      <td>17046</td>\n",
       "      <td>80.39</td>\n",
       "      <td>30</td>\n",
       "      <td>82</td>\n",
       "      <td>20</td>\n",
       "    </tr>\n",
       "    <tr>\n",
       "      <td>3</td>\n",
       "      <td>ST Jayasuriya (Asia/SL)</td>\n",
       "      <td>1989-2011</td>\n",
       "      <td>445</td>\n",
       "      <td>433</td>\n",
       "      <td>18</td>\n",
       "      <td>13430</td>\n",
       "      <td>189</td>\n",
       "      <td>32.36</td>\n",
       "      <td>14725</td>\n",
       "      <td>91.20</td>\n",
       "      <td>28</td>\n",
       "      <td>68</td>\n",
       "      <td>34</td>\n",
       "    </tr>\n",
       "    <tr>\n",
       "      <td>4</td>\n",
       "      <td>DPMD Jayawardene (Asia/SL)</td>\n",
       "      <td>1998-2015</td>\n",
       "      <td>448</td>\n",
       "      <td>418</td>\n",
       "      <td>39</td>\n",
       "      <td>12650</td>\n",
       "      <td>144</td>\n",
       "      <td>33.37</td>\n",
       "      <td>16020</td>\n",
       "      <td>78.96</td>\n",
       "      <td>19</td>\n",
       "      <td>77</td>\n",
       "      <td>28</td>\n",
       "    </tr>\n",
       "  </tbody>\n",
       "</table>\n",
       "</div>"
      ],
      "text/plain": [
       "                        Player       Span  Mat  Inns  NO   Runs    HS    Ave  \\\n",
       "0         SR Tendulkar (INDIA)  1989-2012  463   452  41  18426  200*  44.83   \n",
       "1  KC Sangakkara (Asia/ICC/SL)  2000-2015  404   380  41  14234   169  41.98   \n",
       "2         RT Ponting (AUS/ICC)  1995-2012  375   365  39  13704   164  42.03   \n",
       "3      ST Jayasuriya (Asia/SL)  1989-2011  445   433  18  13430   189  32.36   \n",
       "4   DPMD Jayawardene (Asia/SL)  1998-2015  448   418  39  12650   144  33.37   \n",
       "\n",
       "      BF     SR  100  50   0  \n",
       "0  21367  86.23   49  96  20  \n",
       "1  18048  78.86   25  93  15  \n",
       "2  17046  80.39   30  82  20  \n",
       "3  14725  91.20   28  68  34  \n",
       "4  16020  78.96   19  77  28  "
      ]
     },
     "execution_count": 3,
     "metadata": {},
     "output_type": "execute_result"
    }
   ],
   "source": [
    "df.head()"
   ]
  },
  {
   "cell_type": "code",
   "execution_count": 4,
   "metadata": {},
   "outputs": [
    {
     "data": {
      "text/plain": [
       "(79, 13)"
      ]
     },
     "execution_count": 4,
     "metadata": {},
     "output_type": "execute_result"
    }
   ],
   "source": [
    "df.shape"
   ]
  },
  {
   "cell_type": "code",
   "execution_count": 5,
   "metadata": {},
   "outputs": [
    {
     "name": "stdout",
     "output_type": "stream",
     "text": [
      "<class 'pandas.core.frame.DataFrame'>\n",
      "RangeIndex: 79 entries, 0 to 78\n",
      "Data columns (total 13 columns):\n",
      "Player    79 non-null object\n",
      "Span      79 non-null object\n",
      "Mat       79 non-null int64\n",
      "Inns      79 non-null int64\n",
      "NO        79 non-null int64\n",
      "Runs      79 non-null int64\n",
      "HS        79 non-null object\n",
      "Ave       79 non-null float64\n",
      "BF        79 non-null int64\n",
      "SR        79 non-null float64\n",
      "100       79 non-null int64\n",
      "50        79 non-null int64\n",
      "0         79 non-null int64\n",
      "dtypes: float64(2), int64(8), object(3)\n",
      "memory usage: 8.1+ KB\n"
     ]
    }
   ],
   "source": [
    "df.info()"
   ]
  },
  {
   "cell_type": "code",
   "execution_count": 6,
   "metadata": {},
   "outputs": [
    {
     "data": {
      "text/plain": [
       "Player    0\n",
       "Span      0\n",
       "Mat       0\n",
       "Inns      0\n",
       "NO        0\n",
       "Runs      0\n",
       "HS        0\n",
       "Ave       0\n",
       "BF        0\n",
       "SR        0\n",
       "100       0\n",
       "50        0\n",
       "0         0\n",
       "dtype: int64"
      ]
     },
     "execution_count": 6,
     "metadata": {},
     "output_type": "execute_result"
    }
   ],
   "source": [
    "#checking null values\n",
    "df.isnull().sum()"
   ]
  },
  {
   "cell_type": "code",
   "execution_count": 7,
   "metadata": {},
   "outputs": [],
   "source": [
    "col = ['Ave','SR']\n",
    "df_1 = df[col].astype(float)"
   ]
  },
  {
   "cell_type": "code",
   "execution_count": 8,
   "metadata": {},
   "outputs": [],
   "source": [
    "from sklearn.preprocessing import StandardScaler"
   ]
  },
  {
   "cell_type": "code",
   "execution_count": 9,
   "metadata": {},
   "outputs": [],
   "source": [
    "#scaling features\n",
    "Scaler = StandardScaler()\n",
    "df_1=Scaler.fit_transform(df_1)"
   ]
  },
  {
   "cell_type": "code",
   "execution_count": 10,
   "metadata": {},
   "outputs": [],
   "source": [
    "df_1 = pd.DataFrame(df_1)"
   ]
  },
  {
   "cell_type": "code",
   "execution_count": 11,
   "metadata": {},
   "outputs": [
    {
     "data": {
      "text/html": [
       "<div>\n",
       "<style scoped>\n",
       "    .dataframe tbody tr th:only-of-type {\n",
       "        vertical-align: middle;\n",
       "    }\n",
       "\n",
       "    .dataframe tbody tr th {\n",
       "        vertical-align: top;\n",
       "    }\n",
       "\n",
       "    .dataframe thead th {\n",
       "        text-align: right;\n",
       "    }\n",
       "</style>\n",
       "<table border=\"1\" class=\"dataframe\">\n",
       "  <thead>\n",
       "    <tr style=\"text-align: right;\">\n",
       "      <th></th>\n",
       "      <th>0</th>\n",
       "      <th>1</th>\n",
       "    </tr>\n",
       "  </thead>\n",
       "  <tbody>\n",
       "    <tr>\n",
       "      <td>0</td>\n",
       "      <td>1.072294</td>\n",
       "      <td>0.703152</td>\n",
       "    </tr>\n",
       "    <tr>\n",
       "      <td>1</td>\n",
       "      <td>0.587725</td>\n",
       "      <td>-0.044139</td>\n",
       "    </tr>\n",
       "    <tr>\n",
       "      <td>2</td>\n",
       "      <td>0.596226</td>\n",
       "      <td>0.110997</td>\n",
       "    </tr>\n",
       "    <tr>\n",
       "      <td>3</td>\n",
       "      <td>-1.047909</td>\n",
       "      <td>1.207091</td>\n",
       "    </tr>\n",
       "    <tr>\n",
       "      <td>4</td>\n",
       "      <td>-0.876185</td>\n",
       "      <td>-0.034000</td>\n",
       "    </tr>\n",
       "  </tbody>\n",
       "</table>\n",
       "</div>"
      ],
      "text/plain": [
       "          0         1\n",
       "0  1.072294  0.703152\n",
       "1  0.587725 -0.044139\n",
       "2  0.596226  0.110997\n",
       "3 -1.047909  1.207091\n",
       "4 -0.876185 -0.034000"
      ]
     },
     "execution_count": 11,
     "metadata": {},
     "output_type": "execute_result"
    }
   ],
   "source": [
    "df_1.head()"
   ]
  },
  {
   "cell_type": "code",
   "execution_count": 12,
   "metadata": {},
   "outputs": [],
   "source": [
    "df_1.columns = [col]"
   ]
  },
  {
   "cell_type": "code",
   "execution_count": 13,
   "metadata": {},
   "outputs": [
    {
     "data": {
      "text/html": [
       "<div>\n",
       "<style scoped>\n",
       "    .dataframe tbody tr th:only-of-type {\n",
       "        vertical-align: middle;\n",
       "    }\n",
       "\n",
       "    .dataframe tbody tr th {\n",
       "        vertical-align: top;\n",
       "    }\n",
       "\n",
       "    .dataframe thead tr th {\n",
       "        text-align: left;\n",
       "    }\n",
       "</style>\n",
       "<table border=\"1\" class=\"dataframe\">\n",
       "  <thead>\n",
       "    <tr>\n",
       "      <th></th>\n",
       "      <th>Ave</th>\n",
       "      <th>SR</th>\n",
       "    </tr>\n",
       "  </thead>\n",
       "  <tbody>\n",
       "    <tr>\n",
       "      <td>0</td>\n",
       "      <td>1.072294</td>\n",
       "      <td>0.703152</td>\n",
       "    </tr>\n",
       "    <tr>\n",
       "      <td>1</td>\n",
       "      <td>0.587725</td>\n",
       "      <td>-0.044139</td>\n",
       "    </tr>\n",
       "    <tr>\n",
       "      <td>2</td>\n",
       "      <td>0.596226</td>\n",
       "      <td>0.110997</td>\n",
       "    </tr>\n",
       "    <tr>\n",
       "      <td>3</td>\n",
       "      <td>-1.047909</td>\n",
       "      <td>1.207091</td>\n",
       "    </tr>\n",
       "    <tr>\n",
       "      <td>4</td>\n",
       "      <td>-0.876185</td>\n",
       "      <td>-0.034000</td>\n",
       "    </tr>\n",
       "  </tbody>\n",
       "</table>\n",
       "</div>"
      ],
      "text/plain": [
       "        Ave        SR\n",
       "0  1.072294  0.703152\n",
       "1  0.587725 -0.044139\n",
       "2  0.596226  0.110997\n",
       "3 -1.047909  1.207091\n",
       "4 -0.876185 -0.034000"
      ]
     },
     "execution_count": 13,
     "metadata": {},
     "output_type": "execute_result"
    }
   ],
   "source": [
    "df_1.head()"
   ]
  },
  {
   "cell_type": "code",
   "execution_count": 14,
   "metadata": {},
   "outputs": [
    {
     "data": {
      "text/plain": [
       "KMeans(algorithm='auto', copy_x=True, init='k-means++', max_iter=300,\n",
       "       n_clusters=5, n_init=10, n_jobs=None, precompute_distances='auto',\n",
       "       random_state=100, tol=0.0001, verbose=0)"
      ]
     },
     "execution_count": 14,
     "metadata": {},
     "output_type": "execute_result"
    }
   ],
   "source": [
    "# model building\n",
    "from sklearn.cluster import KMeans\n",
    "model = KMeans(n_clusters = 5, random_state = 100)\n",
    "model.fit(df_1)"
   ]
  },
  {
   "cell_type": "code",
   "execution_count": 15,
   "metadata": {},
   "outputs": [
    {
     "data": {
      "text/plain": [
       "[<matplotlib.lines.Line2D at 0x23e760bbc88>]"
      ]
     },
     "execution_count": 15,
     "metadata": {},
     "output_type": "execute_result"
    },
    {
     "data": {
      "image/png": "[encoded data removed]",
      "text/plain": [
       "<Figure size 432x288 with 1 Axes>"
      ]
     },
     "metadata": {
      "needs_background": "light"
     },
     "output_type": "display_data"
    }
   ],
   "source": [
    "#silhouette\n",
    "from sklearn.metrics import silhouette_score\n",
    "sse = []\n",
    "for k in range(2,15):\n",
    "    kmeans = KMeans(n_clusters = k,random_state=100).fit(df_1)\n",
    "    sse.append([k, silhouette_score(df_1, kmeans.labels_)])\n",
    "plt.plot(pd.DataFrame(sse)[0], pd.DataFrame(sse)[1])"
   ]
  },
  {
   "cell_type": "code",
   "execution_count": 16,
   "metadata": {},
   "outputs": [],
   "source": [
    "# sum of squares\n",
    "ssd = []\n",
    "for num_clusters in list(range(1,21)):\n",
    "    model_clus = KMeans(n_clusters = num_clusters, max_iter = 50, random_state = 100)\n",
    "    model_clus.fit(df_1)\n",
    "    ssd.append(model_clus.inertia_)"
   ]
  },
  {
   "cell_type": "code",
   "execution_count": 17,
   "metadata": {},
   "outputs": [
    {
     "data": {
      "text/plain": [
       "[<matplotlib.lines.Line2D at 0x23e7659b588>]"
      ]
     },
     "execution_count": 17,
     "metadata": {},
     "output_type": "execute_result"
    },
    {
     "data": {
      "image/png": "[encoded data removed]",
      "text/plain": [
       "<Figure size 432x288 with 1 Axes>"
      ]
     },
     "metadata": {
      "needs_background": "light"
     },
     "output_type": "display_data"
    }
   ],
   "source": [
    "plt.plot(ssd)"
   ]
  },
  {
   "cell_type": "code",
   "execution_count": 18,
   "metadata": {},
   "outputs": [],
   "source": [
    "# we can make clusters ranging 3 to 5 so we wil make 4 clusters"
   ]
  },
  {
   "cell_type": "code",
   "execution_count": 19,
   "metadata": {},
   "outputs": [
    {
     "data": {
      "text/plain": [
       "KMeans(algorithm='auto', copy_x=True, init='k-means++', max_iter=300,\n",
       "       n_clusters=4, n_init=10, n_jobs=None, precompute_distances='auto',\n",
       "       random_state=100, tol=0.0001, verbose=0)"
      ]
     },
     "execution_count": 19,
     "metadata": {},
     "output_type": "execute_result"
    }
   ],
   "source": [
    "#final model building\n",
    "finalmodel = KMeans(n_clusters = 4, random_state = 100)\n",
    "finalmodel.fit(df_1)"
   ]
  },
  {
   "cell_type": "code",
   "execution_count": 20,
   "metadata": {},
   "outputs": [
    {
     "data": {
      "text/plain": [
       "<matplotlib.collections.PathCollection at 0x23e76647448>"
      ]
     },
     "execution_count": 20,
     "metadata": {},
     "output_type": "execute_result"
    },
    {
     "data": {
      "image/png": "[encoded data removed]",
      "text/plain": [
       "<Figure size 432x288 with 1 Axes>"
      ]
     },
     "metadata": {
      "needs_background": "light"
     },
     "output_type": "display_data"
    }
   ],
   "source": [
    "plt.scatter(df_1.iloc[:,0],df_1.iloc[:,1], c=finalmodel.labels_, cmap='rainbow')"
   ]
  },
  {
   "cell_type": "code",
   "execution_count": null,
   "metadata": {},
   "outputs": [],
   "source": []
  }
 ],
 "metadata": {
  "kernelspec": {
   "display_name": "Python 3",
   "language": "python",
   "name": "python3"
  },
  "language_info": {
   "codemirror_mode": {
    "name": "ipython",
    "version": 3
   },
   "file_extension": ".py",
   "mimetype": "text/x-python",
   "name": "python",
   "nbconvert_exporter": "python",
   "pygments_lexer": "ipython3",
   "version": "3.7.4"
  }
 },
 "nbformat": 4,
 "nbformat_minor": 2
}
