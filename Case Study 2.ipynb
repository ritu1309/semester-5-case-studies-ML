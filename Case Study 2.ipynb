{
 "cells": [
  {
   "cell_type": "markdown",
   "metadata": {},
   "source": [
    "#    TITANIC CASE STUDY"
   ]
  },
  {
   "cell_type": "markdown",
   "metadata": {},
   "source": [
    "#      "
   ]
  },
  {
   "cell_type": "code",
   "execution_count": 1,
   "metadata": {},
   "outputs": [],
   "source": [
    "#importing libraries\n",
    "import numpy as np\n",
    "import pandas as pd\n",
    "import warnings\n",
    "warnings.filterwarnings('ignore')"
   ]
  },
  {
   "cell_type": "code",
   "execution_count": 2,
   "metadata": {},
   "outputs": [],
   "source": [
    "#reading testing and training data\n",
    "train_df = pd.read_csv(\"train.csv\")\n",
    "test_df = pd.read_csv(\"test.csv\")"
   ]
  },
  {
   "cell_type": "code",
   "execution_count": 3,
   "metadata": {},
   "outputs": [
    {
     "data": {
      "text/plain": [
       "(891, 12)"
      ]
     },
     "execution_count": 3,
     "metadata": {},
     "output_type": "execute_result"
    }
   ],
   "source": [
    "# looking at train and test data\n",
    "train_df.shape"
   ]
  },
  {
   "cell_type": "code",
   "execution_count": 4,
   "metadata": {},
   "outputs": [
    {
     "data": {
      "text/plain": [
       "(418, 11)"
      ]
     },
     "execution_count": 4,
     "metadata": {},
     "output_type": "execute_result"
    }
   ],
   "source": [
    "test_df.shape"
   ]
  },
  {
   "cell_type": "code",
   "execution_count": 5,
   "metadata": {},
   "outputs": [
    {
     "data": {
      "text/html": [
       "<div>\n",
       "<style scoped>\n",
       "    .dataframe tbody tr th:only-of-type {\n",
       "        vertical-align: middle;\n",
       "    }\n",
       "\n",
       "    .dataframe tbody tr th {\n",
       "        vertical-align: top;\n",
       "    }\n",
       "\n",
       "    .dataframe thead th {\n",
       "        text-align: right;\n",
       "    }\n",
       "</style>\n",
       "<table border=\"1\" class=\"dataframe\">\n",
       "  <thead>\n",
       "    <tr style=\"text-align: right;\">\n",
       "      <th></th>\n",
       "      <th>PassengerId</th>\n",
       "      <th>Survived</th>\n",
       "      <th>Pclass</th>\n",
       "      <th>Name</th>\n",
       "      <th>Sex</th>\n",
       "      <th>Age</th>\n",
       "      <th>SibSp</th>\n",
       "      <th>Parch</th>\n",
       "      <th>Ticket</th>\n",
       "      <th>Fare</th>\n",
       "      <th>Cabin</th>\n",
       "      <th>Embarked</th>\n",
       "    </tr>\n",
       "  </thead>\n",
       "  <tbody>\n",
       "    <tr>\n",
       "      <td>0</td>\n",
       "      <td>1</td>\n",
       "      <td>0</td>\n",
       "      <td>3</td>\n",
       "      <td>Braund, Mr. Owen Harris</td>\n",
       "      <td>male</td>\n",
       "      <td>22.0</td>\n",
       "      <td>1</td>\n",
       "      <td>0</td>\n",
       "      <td>A/5 21171</td>\n",
       "      <td>7.2500</td>\n",
       "      <td>NaN</td>\n",
       "      <td>S</td>\n",
       "    </tr>\n",
       "    <tr>\n",
       "      <td>1</td>\n",
       "      <td>2</td>\n",
       "      <td>1</td>\n",
       "      <td>1</td>\n",
       "      <td>Cumings, Mrs. John Bradley (Florence Briggs Th...</td>\n",
       "      <td>female</td>\n",
       "      <td>38.0</td>\n",
       "      <td>1</td>\n",
       "      <td>0</td>\n",
       "      <td>PC 17599</td>\n",
       "      <td>71.2833</td>\n",
       "      <td>C85</td>\n",
       "      <td>C</td>\n",
       "    </tr>\n",
       "    <tr>\n",
       "      <td>2</td>\n",
       "      <td>3</td>\n",
       "      <td>1</td>\n",
       "      <td>3</td>\n",
       "      <td>Heikkinen, Miss. Laina</td>\n",
       "      <td>female</td>\n",
       "      <td>26.0</td>\n",
       "      <td>0</td>\n",
       "      <td>0</td>\n",
       "      <td>STON/O2. 3101282</td>\n",
       "      <td>7.9250</td>\n",
       "      <td>NaN</td>\n",
       "      <td>S</td>\n",
       "    </tr>\n",
       "    <tr>\n",
       "      <td>3</td>\n",
       "      <td>4</td>\n",
       "      <td>1</td>\n",
       "      <td>1</td>\n",
       "      <td>Futrelle, Mrs. Jacques Heath (Lily May Peel)</td>\n",
       "      <td>female</td>\n",
       "      <td>35.0</td>\n",
       "      <td>1</td>\n",
       "      <td>0</td>\n",
       "      <td>113803</td>\n",
       "      <td>53.1000</td>\n",
       "      <td>C123</td>\n",
       "      <td>S</td>\n",
       "    </tr>\n",
       "    <tr>\n",
       "      <td>4</td>\n",
       "      <td>5</td>\n",
       "      <td>0</td>\n",
       "      <td>3</td>\n",
       "      <td>Allen, Mr. William Henry</td>\n",
       "      <td>male</td>\n",
       "      <td>35.0</td>\n",
       "      <td>0</td>\n",
       "      <td>0</td>\n",
       "      <td>373450</td>\n",
       "      <td>8.0500</td>\n",
       "      <td>NaN</td>\n",
       "      <td>S</td>\n",
       "    </tr>\n",
       "  </tbody>\n",
       "</table>\n",
       "</div>"
      ],
      "text/plain": [
       "   PassengerId  Survived  Pclass  \\\n",
       "0            1         0       3   \n",
       "1            2         1       1   \n",
       "2            3         1       3   \n",
       "3            4         1       1   \n",
       "4            5         0       3   \n",
       "\n",
       "                                                Name     Sex   Age  SibSp  \\\n",
       "0                            Braund, Mr. Owen Harris    male  22.0      1   \n",
       "1  Cumings, Mrs. John Bradley (Florence Briggs Th...  female  38.0      1   \n",
       "2                             Heikkinen, Miss. Laina  female  26.0      0   \n",
       "3       Futrelle, Mrs. Jacques Heath (Lily May Peel)  female  35.0      1   \n",
       "4                           Allen, Mr. William Henry    male  35.0      0   \n",
       "\n",
       "   Parch            Ticket     Fare Cabin Embarked  \n",
       "0      0         A/5 21171   7.2500   NaN        S  \n",
       "1      0          PC 17599  71.2833   C85        C  \n",
       "2      0  STON/O2. 3101282   7.9250   NaN        S  \n",
       "3      0            113803  53.1000  C123        S  \n",
       "4      0            373450   8.0500   NaN        S  "
      ]
     },
     "execution_count": 5,
     "metadata": {},
     "output_type": "execute_result"
    }
   ],
   "source": [
    "train_df.head()"
   ]
  },
  {
   "cell_type": "code",
   "execution_count": 6,
   "metadata": {},
   "outputs": [
    {
     "data": {
      "text/html": [
       "<div>\n",
       "<style scoped>\n",
       "    .dataframe tbody tr th:only-of-type {\n",
       "        vertical-align: middle;\n",
       "    }\n",
       "\n",
       "    .dataframe tbody tr th {\n",
       "        vertical-align: top;\n",
       "    }\n",
       "\n",
       "    .dataframe thead th {\n",
       "        text-align: right;\n",
       "    }\n",
       "</style>\n",
       "<table border=\"1\" class=\"dataframe\">\n",
       "  <thead>\n",
       "    <tr style=\"text-align: right;\">\n",
       "      <th></th>\n",
       "      <th>PassengerId</th>\n",
       "      <th>Pclass</th>\n",
       "      <th>Name</th>\n",
       "      <th>Sex</th>\n",
       "      <th>Age</th>\n",
       "      <th>SibSp</th>\n",
       "      <th>Parch</th>\n",
       "      <th>Ticket</th>\n",
       "      <th>Fare</th>\n",
       "      <th>Cabin</th>\n",
       "      <th>Embarked</th>\n",
       "    </tr>\n",
       "  </thead>\n",
       "  <tbody>\n",
       "    <tr>\n",
       "      <td>0</td>\n",
       "      <td>892</td>\n",
       "      <td>3</td>\n",
       "      <td>Kelly, Mr. James</td>\n",
       "      <td>male</td>\n",
       "      <td>34.5</td>\n",
       "      <td>0</td>\n",
       "      <td>0</td>\n",
       "      <td>330911</td>\n",
       "      <td>7.8292</td>\n",
       "      <td>NaN</td>\n",
       "      <td>Q</td>\n",
       "    </tr>\n",
       "    <tr>\n",
       "      <td>1</td>\n",
       "      <td>893</td>\n",
       "      <td>3</td>\n",
       "      <td>Wilkes, Mrs. James (Ellen Needs)</td>\n",
       "      <td>female</td>\n",
       "      <td>47.0</td>\n",
       "      <td>1</td>\n",
       "      <td>0</td>\n",
       "      <td>363272</td>\n",
       "      <td>7.0000</td>\n",
       "      <td>NaN</td>\n",
       "      <td>S</td>\n",
       "    </tr>\n",
       "    <tr>\n",
       "      <td>2</td>\n",
       "      <td>894</td>\n",
       "      <td>2</td>\n",
       "      <td>Myles, Mr. Thomas Francis</td>\n",
       "      <td>male</td>\n",
       "      <td>62.0</td>\n",
       "      <td>0</td>\n",
       "      <td>0</td>\n",
       "      <td>240276</td>\n",
       "      <td>9.6875</td>\n",
       "      <td>NaN</td>\n",
       "      <td>Q</td>\n",
       "    </tr>\n",
       "    <tr>\n",
       "      <td>3</td>\n",
       "      <td>895</td>\n",
       "      <td>3</td>\n",
       "      <td>Wirz, Mr. Albert</td>\n",
       "      <td>male</td>\n",
       "      <td>27.0</td>\n",
       "      <td>0</td>\n",
       "      <td>0</td>\n",
       "      <td>315154</td>\n",
       "      <td>8.6625</td>\n",
       "      <td>NaN</td>\n",
       "      <td>S</td>\n",
       "    </tr>\n",
       "    <tr>\n",
       "      <td>4</td>\n",
       "      <td>896</td>\n",
       "      <td>3</td>\n",
       "      <td>Hirvonen, Mrs. Alexander (Helga E Lindqvist)</td>\n",
       "      <td>female</td>\n",
       "      <td>22.0</td>\n",
       "      <td>1</td>\n",
       "      <td>1</td>\n",
       "      <td>3101298</td>\n",
       "      <td>12.2875</td>\n",
       "      <td>NaN</td>\n",
       "      <td>S</td>\n",
       "    </tr>\n",
       "  </tbody>\n",
       "</table>\n",
       "</div>"
      ],
      "text/plain": [
       "   PassengerId  Pclass                                          Name     Sex  \\\n",
       "0          892       3                              Kelly, Mr. James    male   \n",
       "1          893       3              Wilkes, Mrs. James (Ellen Needs)  female   \n",
       "2          894       2                     Myles, Mr. Thomas Francis    male   \n",
       "3          895       3                              Wirz, Mr. Albert    male   \n",
       "4          896       3  Hirvonen, Mrs. Alexander (Helga E Lindqvist)  female   \n",
       "\n",
       "    Age  SibSp  Parch   Ticket     Fare Cabin Embarked  \n",
       "0  34.5      0      0   330911   7.8292   NaN        Q  \n",
       "1  47.0      1      0   363272   7.0000   NaN        S  \n",
       "2  62.0      0      0   240276   9.6875   NaN        Q  \n",
       "3  27.0      0      0   315154   8.6625   NaN        S  \n",
       "4  22.0      1      1  3101298  12.2875   NaN        S  "
      ]
     },
     "execution_count": 6,
     "metadata": {},
     "output_type": "execute_result"
    }
   ],
   "source": [
    "test_df.head()"
   ]
  },
  {
   "cell_type": "code",
   "execution_count": 7,
   "metadata": {},
   "outputs": [
    {
     "name": "stdout",
     "output_type": "stream",
     "text": [
      "<class 'pandas.core.frame.DataFrame'>\n",
      "RangeIndex: 891 entries, 0 to 890\n",
      "Data columns (total 12 columns):\n",
      "PassengerId    891 non-null int64\n",
      "Survived       891 non-null int64\n",
      "Pclass         891 non-null int64\n",
      "Name           891 non-null object\n",
      "Sex            891 non-null object\n",
      "Age            714 non-null float64\n",
      "SibSp          891 non-null int64\n",
      "Parch          891 non-null int64\n",
      "Ticket         891 non-null object\n",
      "Fare           891 non-null float64\n",
      "Cabin          204 non-null object\n",
      "Embarked       889 non-null object\n",
      "dtypes: float64(2), int64(5), object(5)\n",
      "memory usage: 83.7+ KB\n"
     ]
    }
   ],
   "source": [
    "# getting information about columns in training and testing data\n",
    "train_df.info()"
   ]
  },
  {
   "cell_type": "code",
   "execution_count": 8,
   "metadata": {},
   "outputs": [
    {
     "name": "stdout",
     "output_type": "stream",
     "text": [
      "<class 'pandas.core.frame.DataFrame'>\n",
      "RangeIndex: 418 entries, 0 to 417\n",
      "Data columns (total 11 columns):\n",
      "PassengerId    418 non-null int64\n",
      "Pclass         418 non-null int64\n",
      "Name           418 non-null object\n",
      "Sex            418 non-null object\n",
      "Age            332 non-null float64\n",
      "SibSp          418 non-null int64\n",
      "Parch          418 non-null int64\n",
      "Ticket         418 non-null object\n",
      "Fare           417 non-null float64\n",
      "Cabin          91 non-null object\n",
      "Embarked       418 non-null object\n",
      "dtypes: float64(2), int64(4), object(5)\n",
      "memory usage: 36.0+ KB\n"
     ]
    }
   ],
   "source": [
    "test_df.info()"
   ]
  },
  {
   "cell_type": "code",
   "execution_count": 9,
   "metadata": {},
   "outputs": [
    {
     "data": {
      "text/plain": [
       "PassengerId      0\n",
       "Survived         0\n",
       "Pclass           0\n",
       "Name             0\n",
       "Sex              0\n",
       "Age            177\n",
       "SibSp            0\n",
       "Parch            0\n",
       "Ticket           0\n",
       "Fare             0\n",
       "Cabin          687\n",
       "Embarked         2\n",
       "dtype: int64"
      ]
     },
     "execution_count": 9,
     "metadata": {},
     "output_type": "execute_result"
    }
   ],
   "source": [
    "# finding null values in training and testing dataset\n",
    "train_df.isnull().sum()"
   ]
  },
  {
   "cell_type": "code",
   "execution_count": 10,
   "metadata": {},
   "outputs": [],
   "source": [
    "# filling the null values in column Age \n",
    "train_df['Age'] = train_df['Age'].fillna(train_df['Age'].median())\n",
    "test_df['Age'] = test_df['Age'].fillna(test_df['Age'].median())"
   ]
  },
  {
   "cell_type": "code",
   "execution_count": 11,
   "metadata": {},
   "outputs": [
    {
     "name": "stdout",
     "output_type": "stream",
     "text": [
      "<class 'pandas.core.frame.DataFrame'>\n",
      "RangeIndex: 891 entries, 0 to 890\n",
      "Data columns (total 12 columns):\n",
      "PassengerId    891 non-null int64\n",
      "Survived       891 non-null int64\n",
      "Pclass         891 non-null int64\n",
      "Name           891 non-null object\n",
      "Sex            891 non-null object\n",
      "Age            891 non-null float64\n",
      "SibSp          891 non-null int64\n",
      "Parch          891 non-null int64\n",
      "Ticket         891 non-null object\n",
      "Fare           891 non-null float64\n",
      "Cabin          204 non-null object\n",
      "Embarked       889 non-null object\n",
      "dtypes: float64(2), int64(5), object(5)\n",
      "memory usage: 83.7+ KB\n"
     ]
    }
   ],
   "source": [
    "train_df.info()"
   ]
  },
  {
   "cell_type": "code",
   "execution_count": 12,
   "metadata": {},
   "outputs": [],
   "source": [
    "# dropping columns that are not required or having more number of null values\n",
    "train_df = train_df.drop(['Name' , 'Ticket', 'Cabin'],axis=1)\n",
    "test_df = test_df.drop(['Name' ,'Ticket', 'Cabin'],axis=1)"
   ]
  },
  {
   "cell_type": "code",
   "execution_count": 13,
   "metadata": {},
   "outputs": [
    {
     "data": {
      "text/plain": [
       "PassengerId    0\n",
       "Survived       0\n",
       "Pclass         0\n",
       "Sex            0\n",
       "Age            0\n",
       "SibSp          0\n",
       "Parch          0\n",
       "Fare           0\n",
       "Embarked       2\n",
       "dtype: int64"
      ]
     },
     "execution_count": 13,
     "metadata": {},
     "output_type": "execute_result"
    }
   ],
   "source": [
    "train_df.isnull().sum()"
   ]
  },
  {
   "cell_type": "code",
   "execution_count": 14,
   "metadata": {},
   "outputs": [
    {
     "data": {
      "text/plain": [
       "PassengerId    0\n",
       "Pclass         0\n",
       "Sex            0\n",
       "Age            0\n",
       "SibSp          0\n",
       "Parch          0\n",
       "Fare           1\n",
       "Embarked       0\n",
       "dtype: int64"
      ]
     },
     "execution_count": 14,
     "metadata": {},
     "output_type": "execute_result"
    }
   ],
   "source": [
    "test_df.isnull().sum()"
   ]
  },
  {
   "cell_type": "code",
   "execution_count": 15,
   "metadata": {},
   "outputs": [],
   "source": [
    "# defining a function for mapping values of object type into float type\n",
    "def binary_map(x):\n",
    "    return x.map({'S': 1, 'C': 2, 'Q': 3 })\n",
    "var = ['Embarked']\n",
    "train_df[var] = train_df[var].apply(binary_map)\n",
    "\n",
    "test_df[var] = test_df[var].apply(binary_map)"
   ]
  },
  {
   "cell_type": "code",
   "execution_count": 16,
   "metadata": {},
   "outputs": [],
   "source": [
    "train_df = train_df[~np.isnan(train_df['Embarked'])]"
   ]
  },
  {
   "cell_type": "code",
   "execution_count": 17,
   "metadata": {},
   "outputs": [
    {
     "data": {
      "text/plain": [
       "PassengerId    0\n",
       "Survived       0\n",
       "Pclass         0\n",
       "Sex            0\n",
       "Age            0\n",
       "SibSp          0\n",
       "Parch          0\n",
       "Fare           0\n",
       "Embarked       0\n",
       "dtype: int64"
      ]
     },
     "execution_count": 17,
     "metadata": {},
     "output_type": "execute_result"
    }
   ],
   "source": [
    "train_df.isnull().sum()"
   ]
  },
  {
   "cell_type": "code",
   "execution_count": 18,
   "metadata": {},
   "outputs": [],
   "source": [
    "# filling the null value in column Fare\n",
    "test_df['Fare'] = test_df['Fare'].fillna(test_df['Fare'].median())"
   ]
  },
  {
   "cell_type": "code",
   "execution_count": 19,
   "metadata": {},
   "outputs": [
    {
     "data": {
      "text/plain": [
       "PassengerId    0\n",
       "Pclass         0\n",
       "Sex            0\n",
       "Age            0\n",
       "SibSp          0\n",
       "Parch          0\n",
       "Fare           0\n",
       "Embarked       0\n",
       "dtype: int64"
      ]
     },
     "execution_count": 19,
     "metadata": {},
     "output_type": "execute_result"
    }
   ],
   "source": [
    "test_df.isnull().sum()"
   ]
  },
  {
   "cell_type": "code",
   "execution_count": 20,
   "metadata": {},
   "outputs": [
    {
     "name": "stdout",
     "output_type": "stream",
     "text": [
      "<class 'pandas.core.frame.DataFrame'>\n",
      "Int64Index: 889 entries, 0 to 890\n",
      "Data columns (total 9 columns):\n",
      "PassengerId    889 non-null int64\n",
      "Survived       889 non-null int64\n",
      "Pclass         889 non-null int64\n",
      "Sex            889 non-null object\n",
      "Age            889 non-null float64\n",
      "SibSp          889 non-null int64\n",
      "Parch          889 non-null int64\n",
      "Fare           889 non-null float64\n",
      "Embarked       889 non-null float64\n",
      "dtypes: float64(3), int64(5), object(1)\n",
      "memory usage: 69.5+ KB\n"
     ]
    }
   ],
   "source": [
    "train_df.info()"
   ]
  },
  {
   "cell_type": "code",
   "execution_count": 21,
   "metadata": {},
   "outputs": [
    {
     "name": "stdout",
     "output_type": "stream",
     "text": [
      "<class 'pandas.core.frame.DataFrame'>\n",
      "RangeIndex: 418 entries, 0 to 417\n",
      "Data columns (total 8 columns):\n",
      "PassengerId    418 non-null int64\n",
      "Pclass         418 non-null int64\n",
      "Sex            418 non-null object\n",
      "Age            418 non-null float64\n",
      "SibSp          418 non-null int64\n",
      "Parch          418 non-null int64\n",
      "Fare           418 non-null float64\n",
      "Embarked       418 non-null int64\n",
      "dtypes: float64(2), int64(5), object(1)\n",
      "memory usage: 26.2+ KB\n"
     ]
    }
   ],
   "source": [
    "test_df.info()"
   ]
  },
  {
   "cell_type": "code",
   "execution_count": 22,
   "metadata": {},
   "outputs": [],
   "source": [
    "# defining function for transformig sex column into int type from object type\n",
    "def transform_sex(x):\n",
    "     return x.map({'male': 1, 'female': 2 })"
   ]
  },
  {
   "cell_type": "code",
   "execution_count": 23,
   "metadata": {},
   "outputs": [],
   "source": [
    "# transformig sex column into int type from object type\n",
    "var2 = ['Sex']\n",
    "train_df[var2] = train_df[var2].apply(transform_sex)\n",
    "test_df[var2] = test_df[var2].apply(transform_sex)"
   ]
  },
  {
   "cell_type": "code",
   "execution_count": 24,
   "metadata": {},
   "outputs": [
    {
     "name": "stdout",
     "output_type": "stream",
     "text": [
      "<class 'pandas.core.frame.DataFrame'>\n",
      "Int64Index: 889 entries, 0 to 890\n",
      "Data columns (total 9 columns):\n",
      "PassengerId    889 non-null int64\n",
      "Survived       889 non-null int64\n",
      "Pclass         889 non-null int64\n",
      "Sex            889 non-null int64\n",
      "Age            889 non-null float64\n",
      "SibSp          889 non-null int64\n",
      "Parch          889 non-null int64\n",
      "Fare           889 non-null float64\n",
      "Embarked       889 non-null float64\n",
      "dtypes: float64(3), int64(6)\n",
      "memory usage: 69.5 KB\n"
     ]
    }
   ],
   "source": [
    "train_df.info()"
   ]
  },
  {
   "cell_type": "code",
   "execution_count": 25,
   "metadata": {},
   "outputs": [
    {
     "name": "stdout",
     "output_type": "stream",
     "text": [
      "<class 'pandas.core.frame.DataFrame'>\n",
      "RangeIndex: 418 entries, 0 to 417\n",
      "Data columns (total 8 columns):\n",
      "PassengerId    418 non-null int64\n",
      "Pclass         418 non-null int64\n",
      "Sex            418 non-null int64\n",
      "Age            418 non-null float64\n",
      "SibSp          418 non-null int64\n",
      "Parch          418 non-null int64\n",
      "Fare           418 non-null float64\n",
      "Embarked       418 non-null int64\n",
      "dtypes: float64(2), int64(6)\n",
      "memory usage: 26.2 KB\n"
     ]
    }
   ],
   "source": [
    "test_df.info()"
   ]
  },
  {
   "cell_type": "code",
   "execution_count": 26,
   "metadata": {},
   "outputs": [],
   "source": [
    "# converting the float type into int type\n",
    "train_df = train_df.astype({'Age': 'int64' , 'Fare': 'int64' , 'Embarked': 'int64'})"
   ]
  },
  {
   "cell_type": "code",
   "execution_count": 27,
   "metadata": {},
   "outputs": [],
   "source": [
    "test_df = test_df.astype({'Age': 'int64' , 'Fare': 'int64' })"
   ]
  },
  {
   "cell_type": "code",
   "execution_count": 28,
   "metadata": {},
   "outputs": [
    {
     "name": "stdout",
     "output_type": "stream",
     "text": [
      "<class 'pandas.core.frame.DataFrame'>\n",
      "Int64Index: 889 entries, 0 to 890\n",
      "Data columns (total 9 columns):\n",
      "PassengerId    889 non-null int64\n",
      "Survived       889 non-null int64\n",
      "Pclass         889 non-null int64\n",
      "Sex            889 non-null int64\n",
      "Age            889 non-null int64\n",
      "SibSp          889 non-null int64\n",
      "Parch          889 non-null int64\n",
      "Fare           889 non-null int64\n",
      "Embarked       889 non-null int64\n",
      "dtypes: int64(9)\n",
      "memory usage: 69.5 KB\n"
     ]
    }
   ],
   "source": [
    "train_df.info()"
   ]
  },
  {
   "cell_type": "code",
   "execution_count": 29,
   "metadata": {},
   "outputs": [
    {
     "name": "stdout",
     "output_type": "stream",
     "text": [
      "<class 'pandas.core.frame.DataFrame'>\n",
      "RangeIndex: 418 entries, 0 to 417\n",
      "Data columns (total 8 columns):\n",
      "PassengerId    418 non-null int64\n",
      "Pclass         418 non-null int64\n",
      "Sex            418 non-null int64\n",
      "Age            418 non-null int64\n",
      "SibSp          418 non-null int64\n",
      "Parch          418 non-null int64\n",
      "Fare           418 non-null int64\n",
      "Embarked       418 non-null int64\n",
      "dtypes: int64(8)\n",
      "memory usage: 26.2 KB\n"
     ]
    }
   ],
   "source": [
    "test_df.info() "
   ]
  },
  {
   "cell_type": "code",
   "execution_count": 30,
   "metadata": {},
   "outputs": [
    {
     "data": {
      "text/plain": [
       "Index(['PassengerId', 'Survived', 'Pclass', 'Sex', 'Age', 'SibSp', 'Parch',\n",
       "       'Fare', 'Embarked'],\n",
       "      dtype='object')"
      ]
     },
     "execution_count": 30,
     "metadata": {},
     "output_type": "execute_result"
    }
   ],
   "source": [
    "train_df.columns"
   ]
  },
  {
   "cell_type": "code",
   "execution_count": 31,
   "metadata": {},
   "outputs": [
    {
     "data": {
      "text/plain": [
       "Index(['PassengerId', 'Pclass', 'Sex', 'Age', 'SibSp', 'Parch', 'Fare',\n",
       "       'Embarked'],\n",
       "      dtype='object')"
      ]
     },
     "execution_count": 31,
     "metadata": {},
     "output_type": "execute_result"
    }
   ],
   "source": [
    "test_df.columns"
   ]
  },
  {
   "cell_type": "code",
   "execution_count": 32,
   "metadata": {},
   "outputs": [],
   "source": [
    "# importing scaler for scaling data\n",
    "from sklearn.preprocessing import MinMaxScaler\n",
    "sc = MinMaxScaler()\n",
    "Col = ['Survived', 'Pclass', 'Sex', 'Age', 'SibSp', 'Parch','Fare', 'Embarked']\n",
    "col2 = [ 'Pclass', 'Sex', 'Age', 'SibSp', 'Parch','Fare', 'Embarked']"
   ]
  },
  {
   "cell_type": "code",
   "execution_count": 33,
   "metadata": {},
   "outputs": [],
   "source": [
    "train_df[Col] = sc.fit_transform(train_df[Col])\n",
    "test_df[col2] = sc.fit_transform(test_df[col2])"
   ]
  },
  {
   "cell_type": "code",
   "execution_count": 34,
   "metadata": {},
   "outputs": [],
   "source": [
    "train_x = train_df.drop(['Survived', 'PassengerId'],axis=1 )"
   ]
  },
  {
   "cell_type": "code",
   "execution_count": 35,
   "metadata": {},
   "outputs": [],
   "source": [
    "train_y = train_df[\"Survived\"]"
   ]
  },
  {
   "cell_type": "code",
   "execution_count": 36,
   "metadata": {},
   "outputs": [],
   "source": [
    "# Applying logistic regression \n",
    "from sklearn.linear_model import LogisticRegression\n",
    "lr = LogisticRegression()"
   ]
  },
  {
   "cell_type": "code",
   "execution_count": 37,
   "metadata": {},
   "outputs": [],
   "source": [
    "# importing rfe\n",
    "from sklearn.feature_selection import RFE"
   ]
  },
  {
   "cell_type": "code",
   "execution_count": 38,
   "metadata": {},
   "outputs": [],
   "source": [
    "# applying rfe\n",
    "rfe = RFE(lr,8)"
   ]
  },
  {
   "cell_type": "code",
   "execution_count": 39,
   "metadata": {},
   "outputs": [],
   "source": [
    "rfe = rfe.fit(train_x, train_y)"
   ]
  },
  {
   "cell_type": "code",
   "execution_count": 40,
   "metadata": {},
   "outputs": [],
   "source": [
    "rfe.support_\n",
    "col = train_x.columns[rfe.support_]"
   ]
  },
  {
   "cell_type": "code",
   "execution_count": 41,
   "metadata": {},
   "outputs": [],
   "source": [
    "\n",
    "import statsmodels.api as sm\n",
    "train_x_sm = sm.add_constant(train_x[col])\n",
    "lm = sm.GLM(train_y, train_x_sm, family = sm.families.Binomial())"
   ]
  },
  {
   "cell_type": "code",
   "execution_count": 42,
   "metadata": {},
   "outputs": [],
   "source": [
    "res = lm.fit()"
   ]
  },
  {
   "cell_type": "code",
   "execution_count": 43,
   "metadata": {},
   "outputs": [
    {
     "data": {
      "text/html": [
       "<table class=\"simpletable\">\n",
       "<caption>Generalized Linear Model Regression Results</caption>\n",
       "<tr>\n",
       "  <th>Dep. Variable:</th>       <td>Survived</td>     <th>  No. Observations:  </th>  <td>   889</td> \n",
       "</tr>\n",
       "<tr>\n",
       "  <th>Model:</th>                  <td>GLM</td>       <th>  Df Residuals:      </th>  <td>   881</td> \n",
       "</tr>\n",
       "<tr>\n",
       "  <th>Model Family:</th>        <td>Binomial</td>     <th>  Df Model:          </th>  <td>     7</td> \n",
       "</tr>\n",
       "<tr>\n",
       "  <th>Link Function:</th>         <td>logit</td>      <th>  Scale:             </th> <td>  1.0000</td>\n",
       "</tr>\n",
       "<tr>\n",
       "  <th>Method:</th>                <td>IRLS</td>       <th>  Log-Likelihood:    </th> <td> -392.82</td>\n",
       "</tr>\n",
       "<tr>\n",
       "  <th>Date:</th>            <td>Sat, 29 Aug 2020</td> <th>  Deviance:          </th> <td>  785.64</td>\n",
       "</tr>\n",
       "<tr>\n",
       "  <th>Time:</th>                <td>20:18:26</td>     <th>  Pearson chi2:      </th>  <td>  909.</td> \n",
       "</tr>\n",
       "<tr>\n",
       "  <th>No. Iterations:</th>          <td>5</td>        <th>                     </th>     <td> </td>   \n",
       "</tr>\n",
       "<tr>\n",
       "  <th>Covariance Type:</th>     <td>nonrobust</td>    <th>                     </th>     <td> </td>   \n",
       "</tr>\n",
       "</table>\n",
       "<table class=\"simpletable\">\n",
       "<tr>\n",
       "      <td></td>        <th>coef</th>     <th>std err</th>      <th>z</th>      <th>P>|z|</th>  <th>[0.025</th>    <th>0.975]</th>  \n",
       "</tr>\n",
       "<tr>\n",
       "  <th>const</th>    <td>    1.0712</td> <td>    0.368</td> <td>    2.914</td> <td> 0.004</td> <td>    0.351</td> <td>    1.792</td>\n",
       "</tr>\n",
       "<tr>\n",
       "  <th>Pclass</th>   <td>   -2.2421</td> <td>    0.283</td> <td>   -7.928</td> <td> 0.000</td> <td>   -2.796</td> <td>   -1.688</td>\n",
       "</tr>\n",
       "<tr>\n",
       "  <th>Sex</th>      <td>    2.7092</td> <td>    0.200</td> <td>   13.564</td> <td> 0.000</td> <td>    2.318</td> <td>    3.101</td>\n",
       "</tr>\n",
       "<tr>\n",
       "  <th>Age</th>      <td>   -3.1776</td> <td>    0.625</td> <td>   -5.087</td> <td> 0.000</td> <td>   -4.402</td> <td>   -1.953</td>\n",
       "</tr>\n",
       "<tr>\n",
       "  <th>SibSp</th>    <td>   -2.6259</td> <td>    0.868</td> <td>   -3.024</td> <td> 0.002</td> <td>   -4.328</td> <td>   -0.924</td>\n",
       "</tr>\n",
       "<tr>\n",
       "  <th>Parch</th>    <td>   -0.5020</td> <td>    0.709</td> <td>   -0.708</td> <td> 0.479</td> <td>   -1.891</td> <td>    0.887</td>\n",
       "</tr>\n",
       "<tr>\n",
       "  <th>Fare</th>     <td>    1.1196</td> <td>    1.206</td> <td>    0.929</td> <td> 0.353</td> <td>   -1.243</td> <td>    3.483</td>\n",
       "</tr>\n",
       "<tr>\n",
       "  <th>Embarked</th> <td>    0.4916</td> <td>    0.284</td> <td>    1.733</td> <td> 0.083</td> <td>   -0.064</td> <td>    1.048</td>\n",
       "</tr>\n",
       "</table>"
      ],
      "text/plain": [
       "<class 'statsmodels.iolib.summary.Summary'>\n",
       "\"\"\"\n",
       "                 Generalized Linear Model Regression Results                  \n",
       "==============================================================================\n",
       "Dep. Variable:               Survived   No. Observations:                  889\n",
       "Model:                            GLM   Df Residuals:                      881\n",
       "Model Family:                Binomial   Df Model:                            7\n",
       "Link Function:                  logit   Scale:                          1.0000\n",
       "Method:                          IRLS   Log-Likelihood:                -392.82\n",
       "Date:                Sat, 29 Aug 2020   Deviance:                       785.64\n",
       "Time:                        20:18:26   Pearson chi2:                     909.\n",
       "No. Iterations:                     5                                         \n",
       "Covariance Type:            nonrobust                                         \n",
       "==============================================================================\n",
       "                 coef    std err          z      P>|z|      [0.025      0.975]\n",
       "------------------------------------------------------------------------------\n",
       "const          1.0712      0.368      2.914      0.004       0.351       1.792\n",
       "Pclass        -2.2421      0.283     -7.928      0.000      -2.796      -1.688\n",
       "Sex            2.7092      0.200     13.564      0.000       2.318       3.101\n",
       "Age           -3.1776      0.625     -5.087      0.000      -4.402      -1.953\n",
       "SibSp         -2.6259      0.868     -3.024      0.002      -4.328      -0.924\n",
       "Parch         -0.5020      0.709     -0.708      0.479      -1.891       0.887\n",
       "Fare           1.1196      1.206      0.929      0.353      -1.243       3.483\n",
       "Embarked       0.4916      0.284      1.733      0.083      -0.064       1.048\n",
       "==============================================================================\n",
       "\"\"\""
      ]
     },
     "execution_count": 43,
     "metadata": {},
     "output_type": "execute_result"
    }
   ],
   "source": [
    "res.summary()"
   ]
  },
  {
   "cell_type": "code",
   "execution_count": 44,
   "metadata": {},
   "outputs": [],
   "source": [
    "# predicting training data\n",
    "pred_y = res.predict(train_x_sm)"
   ]
  },
  {
   "cell_type": "code",
   "execution_count": 45,
   "metadata": {},
   "outputs": [
    {
     "data": {
      "text/plain": [
       "0      0.086462\n",
       "1      0.912447\n",
       "2      0.627374\n",
       "3      0.898247\n",
       "4      0.072861\n",
       "         ...   \n",
       "886    0.250897\n",
       "887    0.956535\n",
       "888    0.495235\n",
       "889    0.586585\n",
       "890    0.126196\n",
       "Length: 889, dtype: float64"
      ]
     },
     "execution_count": 45,
     "metadata": {},
     "output_type": "execute_result"
    }
   ],
   "source": [
    "pred_y"
   ]
  },
  {
   "cell_type": "code",
   "execution_count": 46,
   "metadata": {},
   "outputs": [],
   "source": [
    "pred_y = pred_y.values.reshape(-1)"
   ]
  },
  {
   "cell_type": "code",
   "execution_count": 47,
   "metadata": {},
   "outputs": [
    {
     "data": {
      "text/plain": [
       "array([0.08646197, 0.91244667, 0.62737436, 0.8982474 , 0.07286102,\n",
       "       0.14505076, 0.27645088, 0.09340413, 0.57997143, 0.88958075,\n",
       "       0.73156389, 0.82252469, 0.1247982 , 0.03233544, 0.73058717,\n",
       "       0.62476208, 0.10988164, 0.24350625, 0.50454683, 0.66536766,\n",
       "       0.20050189, 0.20231806, 0.81024845, 0.50889519, 0.54937635,\n",
       "       0.34304082, 0.11692036, 0.43526264, 0.71770065, 0.09383363,\n",
       "       0.44700804, 0.94809722, 0.71770065, 0.06602263, 0.51397182,\n",
       "       0.30755986, 0.11692036, 0.12052414, 0.5513938 , 0.71583404,\n",
       "       0.41120918, 0.78661714, 0.11692036, 0.91529677, 0.78424203,\n",
       "       0.09401973, 0.11037769, 0.71770065, 0.06612574, 0.63003224,\n",
       "       0.0595112 , 0.12029254, 0.87190413, 0.77489287, 0.22880421,\n",
       "       0.50889519, 0.86379266, 0.11692036, 0.88332115, 0.03503601,\n",
       "       0.14385855, 0.29672945, 0.08145427, 0.5655868 , 0.08193541,\n",
       "       0.82191824, 0.12920155, 0.35392106, 0.0550677 , 0.21433502,\n",
       "       0.30893941, 0.32644487, 0.09488349, 0.08952683, 0.10446764,\n",
       "       0.09383363, 0.09401973, 0.46163635, 0.59218968, 0.11660206,\n",
       "       0.09087104, 0.71770065, 0.51545152, 0.88142901, 0.32644951,\n",
       "       0.09019377, 0.09401973, 0.90804047, 0.10845364, 0.09069055,\n",
       "       0.12455955, 0.27873415, 0.06565628, 0.02934054, 0.09401973,\n",
       "       0.19329114, 0.61242538, 0.78169272, 0.15820045, 0.60862356,\n",
       "       0.09383363, 0.57976172, 0.07841278, 0.03620604, 0.09383363,\n",
       "       0.67251163, 0.09383363, 0.06507688, 0.65521029, 0.33583476,\n",
       "       0.71716662, 0.116377  , 0.60716762, 0.75759327, 0.12029254,\n",
       "       0.03093733, 0.18482172, 0.69427127, 0.51160486, 0.20088297,\n",
       "       0.09401973, 0.20788598, 0.80483624, 0.2711196 , 0.15369618,\n",
       "       0.14477979, 0.10824238, 0.57644596, 0.04996773, 0.09792286,\n",
       "       0.12455955, 0.34840175, 0.77489287, 0.266121  , 0.33519012,\n",
       "       0.94859608, 0.35188412, 0.14347883, 0.63098801, 0.63122155,\n",
       "       0.66370462, 0.57191395, 0.19452743, 0.32284458, 0.24274501,\n",
       "       0.09726586, 0.60621447, 0.16935286, 0.15582513, 0.11412435,\n",
       "       0.93835193, 0.0342923 , 0.05233343, 0.09383363, 0.34096383,\n",
       "       0.80372163, 0.08746786, 0.09401973, 0.00720775, 0.04892978,\n",
       "       0.7508998 , 0.10080966, 0.13840539, 0.07433587, 0.16084681,\n",
       "       0.93731394, 0.2988278 , 0.50342916, 0.10334966, 0.21762957,\n",
       "       0.10234928, 0.75227756, 0.12029254, 0.30117281, 0.09259006,\n",
       "       0.03568381, 0.89104443, 0.2291723 , 0.06908931, 0.09831086,\n",
       "       0.29247352, 0.05017129, 0.32203958, 0.77907087, 0.51708985,\n",
       "       0.6507507 , 0.34089045, 0.06616218, 0.07008034, 0.80483624,\n",
       "       0.31516626, 0.61556549, 0.37190722, 0.91194231, 0.88510997,\n",
       "       0.14477979, 0.05189432, 0.71770065, 0.84999427, 0.09420617,\n",
       "       0.00720775, 0.07528507, 0.06314147, 0.13373653, 0.80172778,\n",
       "       0.06080668, 0.12803688, 0.80372163, 0.44917123, 0.10824238,\n",
       "       0.78837121, 0.11615232, 0.2291723 , 0.10867153, 0.93783388,\n",
       "       0.61804291, 0.12054825, 0.94889282, 0.22801546, 0.1432103 ,\n",
       "       0.25089735, 0.03996129, 0.09383363, 0.36133451, 0.11660206,\n",
       "       0.31375202, 0.12455955, 0.32380144, 0.35721038, 0.90408875,\n",
       "       0.09051037, 0.08589204, 0.4818253 , 0.27264704, 0.60862356,\n",
       "       0.11215907, 0.90301267, 0.31375202, 0.20844302, 0.5925161 ,\n",
       "       0.6507507 , 0.23508249, 0.11615232, 0.10896457, 0.34421252,\n",
       "       0.63661188, 0.82769839, 0.33256101, 0.07827131, 0.09383363,\n",
       "       0.49911562, 0.20840595, 0.06563882, 0.44676835, 0.62192839,\n",
       "       0.95634535, 0.94141472, 0.97714898, 0.65624517, 0.14477979,\n",
       "       0.06282474, 0.22559126, 0.37341668, 0.71770065, 0.18879358,\n",
       "       0.04238258, 0.07750217, 0.8491047 , 0.93616286, 0.50670896,\n",
       "       0.10304422, 0.72884575, 0.45688112, 0.71770065, 0.75366144,\n",
       "       0.44183894, 0.23830776, 0.09190877, 0.44522395, 0.03747925,\n",
       "       0.09383363, 0.14347883, 0.12920155, 0.50397582, 0.09811619,\n",
       "       0.08764256, 0.11615232, 0.15582513, 0.7633983 , 0.94874293,\n",
       "       0.95860378, 0.23010515, 0.64624978, 0.10824238, 0.5655868 ,\n",
       "       0.13903542, 0.97168414, 0.50616236, 0.92390918, 0.71770065,\n",
       "       0.08335338, 0.12724605, 0.8874591 , 0.09401973, 0.71214368,\n",
       "       0.95908956, 0.96299169, 0.21901818, 0.95059678, 0.96283213,\n",
       "       0.95522798, 0.7810228 , 0.09383363, 0.10785652, 0.62737436,\n",
       "       0.80763973, 0.10302346, 0.93936934, 0.91040081, 0.11615232,\n",
       "       0.09726586, 0.87927756, 0.80800132, 0.00720775, 0.94742524,\n",
       "       0.02710307, 0.77866812, 0.48472752, 0.96867961, 0.57727496,\n",
       "       0.34187379, 0.45332566, 0.08139916, 0.93282268, 0.09383363,\n",
       "       0.43423738, 0.93647727, 0.05017575, 0.34532618, 0.38123161,\n",
       "       0.90466958, 0.24350625, 0.266121  , 0.18980034, 0.84999427,\n",
       "       0.75008084, 0.53319434, 0.15854084, 0.05616877, 0.1125726 ,\n",
       "       0.50889519, 0.12814322, 0.07908013, 0.11692036, 0.09420617,\n",
       "       0.94994095, 0.76467485, 0.71770065, 0.71770065, 0.03345528,\n",
       "       0.22703716, 0.48593176, 0.07271344, 0.11037769, 0.08729347,\n",
       "       0.81439107, 0.66536766, 0.71770065, 0.96172088, 0.52897194,\n",
       "       0.0996671 , 0.12920155, 0.67663622, 0.5979063 , 0.94076225,\n",
       "       0.66370462, 0.63148947, 0.15306953, 0.12895572, 0.94554451,\n",
       "       0.83339591, 0.08116833, 0.89804736, 0.09383363, 0.35316631,\n",
       "       0.05124567, 0.77866812, 0.14477979, 0.90518257, 0.35620473,\n",
       "       0.12029254, 0.05097133, 0.95397791, 0.61129253, 0.11615232,\n",
       "       0.57990208, 0.13942482, 0.28059457, 0.82828074, 0.06270161,\n",
       "       0.10100806, 0.59765467, 0.07053871, 0.68167349, 0.1567498 ,\n",
       "       0.03987748, 0.36782996, 0.12029254, 0.35721038, 0.09383363,\n",
       "       0.14450924, 0.94426535, 0.23830776, 0.051995  , 0.60914432,\n",
       "       0.72452133, 0.85882111, 0.2291723 , 0.73620111, 0.11692036,\n",
       "       0.18270783, 0.09051037, 0.51123039, 0.09500632, 0.09383363,\n",
       "       0.78174558, 0.87670404, 0.14477979, 0.08133157, 0.50397582,\n",
       "       0.53319434, 0.67256172, 0.13814483, 0.2455019 , 0.95217428,\n",
       "       0.48870015, 0.69804446, 0.17383973, 0.22109948, 0.6264379 ,\n",
       "       0.12503724, 0.07750217, 0.82859154, 0.09401973, 0.71547068,\n",
       "       0.8909927 , 0.44462468, 0.70826069, 0.28320511, 0.12827787,\n",
       "       0.07111435, 0.54597689, 0.31801672, 0.09401973, 0.11288131,\n",
       "       0.1894298 , 0.92067578, 0.66714218, 0.14477979, 0.31464601,\n",
       "       0.07559011, 0.32904082, 0.12697849, 0.09401973, 0.06507688,\n",
       "       0.23830776, 0.2504444 , 0.14477979, 0.7475427 , 0.09383363,\n",
       "       0.06521005, 0.71343304, 0.88288648, 0.6646801 , 0.51818188,\n",
       "       0.1567498 , 0.06687854, 0.11615232, 0.80242208, 0.03782321,\n",
       "       0.23830776, 0.04151326, 0.28003654, 0.54853206, 0.35721038,\n",
       "       0.9054079 , 0.2842768 , 0.08746786, 0.12926845, 0.07111435,\n",
       "       0.12029254, 0.25965221, 0.19845738, 0.12052414, 0.11851014,\n",
       "       0.84860176, 0.09533175, 0.93226786, 0.10824238, 0.13840539,\n",
       "       0.7704973 , 0.71770065, 0.52209254, 0.96554285, 0.62479551,\n",
       "       0.77524491, 0.50397582, 0.09666011, 0.11094655, 0.13993082,\n",
       "       0.09401973, 0.42510463, 0.84318607, 0.10824238, 0.3271126 ,\n",
       "       0.790973  , 0.14944381, 0.72274355, 0.08116833, 0.94225329,\n",
       "       0.11615232, 0.11692036, 0.91048061, 0.11692036, 0.09510997,\n",
       "       0.66714218, 0.60881252, 0.06270161, 0.15716514, 0.90246386,\n",
       "       0.11692036, 0.11952713, 0.63477761, 0.59007556, 0.90643609,\n",
       "       0.34089045, 0.95548585, 0.09514332, 0.95656914, 0.91201105,\n",
       "       0.4423552 , 0.42285893, 0.16906899, 0.31746512, 0.19560393,\n",
       "       0.83662719, 0.29156932, 0.05469281, 0.33164075, 0.67149263,\n",
       "       0.25627807, 0.14477979, 0.14385855, 0.66370462, 0.20840595,\n",
       "       0.86723273, 0.66845849, 0.87997661, 0.45447725, 0.14477979,\n",
       "       0.06040744, 0.24350625, 0.09401973, 0.60914432, 0.06133417,\n",
       "       0.12895572, 0.52441659, 0.11692036, 0.08116833, 0.07652145,\n",
       "       0.75590124, 0.42510463, 0.71770065, 0.1432103 , 0.13068493,\n",
       "       0.79205558, 0.88323176, 0.5925161 , 0.08116833, 0.7891989 ,\n",
       "       0.90935425, 0.10547378, 0.49363516, 0.11714634, 0.95567575,\n",
       "       0.13194734, 0.21326531, 0.116377  , 0.09401973, 0.07271344,\n",
       "       0.85852775, 0.0464254 , 0.68259951, 0.14297006, 0.04925714,\n",
       "       0.83471421, 0.04240668, 0.11692036, 0.30257527, 0.73595015,\n",
       "       0.09383363, 0.51272023, 0.05210289, 0.49591111, 0.05234174,\n",
       "       0.08729347, 0.516087  , 0.83554172, 0.92595951, 0.33414609,\n",
       "       0.09383363, 0.6507507 , 0.14477979, 0.07286102, 0.79456897,\n",
       "       0.05202431, 0.55290424, 0.86361633, 0.25718088, 0.09152681,\n",
       "       0.30755986, 0.10923489, 0.12029254, 0.12239083, 0.21725747,\n",
       "       0.14233249, 0.95749486, 0.10080966, 0.14477979, 0.11498881,\n",
       "       0.03987748, 0.52785856, 0.48976334, 0.52195637, 0.82859154,\n",
       "       0.08116833, 0.16298407, 0.39575155, 0.07068222, 0.12455955,\n",
       "       0.96172088, 0.59047244, 0.10334966, 0.7475427 , 0.32047067,\n",
       "       0.12895572, 0.30347902, 0.09383363, 0.65478235, 0.09383363,\n",
       "       0.8711394 , 0.12052414, 0.71770065, 0.79052505, 0.18243395,\n",
       "       0.09383363, 0.59382298, 0.28192074, 0.28761471, 0.21747904,\n",
       "       0.07595941, 0.32279547, 0.07008034, 0.09294617, 0.1397101 ,\n",
       "       0.266121  , 0.09383363, 0.05409983, 0.92083534, 0.67786798,\n",
       "       0.40742101, 0.05687555, 0.22223132, 0.23830776, 0.1334834 ,\n",
       "       0.10845364, 0.69911751, 0.28920693, 0.7156578 , 0.7181435 ,\n",
       "       0.60126502, 0.12503724, 0.0312232 , 0.05954512, 0.23094819,\n",
       "       0.04572652, 0.12969441, 0.1334834 , 0.97241121, 0.41006341,\n",
       "       0.82778741, 0.10334966, 0.129796  , 0.2218148 , 0.11038439,\n",
       "       0.05210289, 0.71770065, 0.30988664, 0.05605296, 0.97009616,\n",
       "       0.4348394 , 0.73422   , 0.16016694, 0.07470963, 0.17623911,\n",
       "       0.7110411 , 0.36814804, 0.96219576, 0.08193541, 0.9600779 ,\n",
       "       0.50397582, 0.2592502 , 0.09087104, 0.11038439, 0.12895572,\n",
       "       0.95316939, 0.83324989, 0.14695938, 0.0782549 , 0.91755438,\n",
       "       0.10349109, 0.20231806, 0.11843008, 0.44680899, 0.1247982 ,\n",
       "       0.62925425, 0.71770065, 0.21178436, 0.5578524 , 0.95647694,\n",
       "       0.21038012, 0.23830776, 0.28192074, 0.28192074, 0.09552051,\n",
       "       0.29461653, 0.7400856 , 0.09383363, 0.09383363, 0.50616236,\n",
       "       0.37369937, 0.9498463 , 0.08185706, 0.08418033, 0.12283847,\n",
       "       0.10205972, 0.81701285, 0.52602251, 0.13064092, 0.89462756,\n",
       "       0.18745902, 0.07857095, 0.11213643, 0.59854841, 0.39385747,\n",
       "       0.09383363, 0.32284458, 0.07559011, 0.93448654, 0.09514332,\n",
       "       0.05819199, 0.15392194, 0.89257854, 0.14294219, 0.83130031,\n",
       "       0.57202278, 0.7013313 , 0.11232511, 0.08133157, 0.10866526,\n",
       "       0.04469836, 0.60282524, 0.11692036, 0.49639722, 0.1334834 ,\n",
       "       0.14477979, 0.79673529, 0.14477979, 0.92057768, 0.78297708,\n",
       "       0.94792547, 0.49623286, 0.06132453, 0.10446764, 0.10446764,\n",
       "       0.69819672, 0.08864702, 0.15943706, 0.41644795, 0.14477979,\n",
       "       0.34785319, 0.09831086, 0.56719796, 0.10446764, 0.17214988,\n",
       "       0.86862277, 0.58043472, 0.10896457, 0.49683947, 0.20231806,\n",
       "       0.74517442, 0.59895514, 0.27066353, 0.09707402, 0.08418033,\n",
       "       0.38275585, 0.69819672, 0.17214988, 0.90528181, 0.10080966,\n",
       "       0.06492224, 0.19495196, 0.47191699, 0.08746786, 0.48976334,\n",
       "       0.65478235, 0.20320875, 0.05387646, 0.06531015, 0.81853738,\n",
       "       0.09745804, 0.3921824 , 0.60073131, 0.07164855, 0.14450924,\n",
       "       0.10334966, 0.51744168, 0.14477979, 0.70904094, 0.39594762,\n",
       "       0.11692036, 0.11213643, 0.13373653, 0.90436836, 0.12052414,\n",
       "       0.09401973, 0.08952683, 0.56666106, 0.12455955, 0.33995888,\n",
       "       0.94796521, 0.09428297, 0.13840539, 0.05605296, 0.00720775,\n",
       "       0.09112634, 0.23622534, 0.94160958, 0.06052635, 0.01638612,\n",
       "       0.74030692, 0.9587716 , 0.65483376, 0.68122969, 0.87432652,\n",
       "       0.28953451, 0.65054049, 0.11692036, 0.03151643, 0.23359418,\n",
       "       0.87308947, 0.09831086, 0.27394995, 0.73489553, 0.82243558,\n",
       "       0.48730958, 0.09420617, 0.15218161, 0.10080966, 0.83416108,\n",
       "       0.44309358, 0.0466194 , 0.82013636, 0.76917548, 0.12503724,\n",
       "       0.12895572, 0.09383363, 0.86986196, 0.83747973, 0.0782549 ,\n",
       "       0.66516731, 0.2422998 , 0.10446764, 0.53144022, 0.25089735,\n",
       "       0.95653479, 0.49523507, 0.58658533, 0.12619562])"
      ]
     },
     "execution_count": 47,
     "metadata": {},
     "output_type": "execute_result"
    }
   ],
   "source": [
    "pred_y"
   ]
  },
  {
   "cell_type": "code",
   "execution_count": 48,
   "metadata": {},
   "outputs": [],
   "source": [
    "fn_train = pd.DataFrame({'Survived': train_y.values, 'Probability': pred_y}) "
   ]
  },
  {
   "cell_type": "code",
   "execution_count": 49,
   "metadata": {},
   "outputs": [
    {
     "data": {
      "text/html": [
       "<div>\n",
       "<style scoped>\n",
       "    .dataframe tbody tr th:only-of-type {\n",
       "        vertical-align: middle;\n",
       "    }\n",
       "\n",
       "    .dataframe tbody tr th {\n",
       "        vertical-align: top;\n",
       "    }\n",
       "\n",
       "    .dataframe thead th {\n",
       "        text-align: right;\n",
       "    }\n",
       "</style>\n",
       "<table border=\"1\" class=\"dataframe\">\n",
       "  <thead>\n",
       "    <tr style=\"text-align: right;\">\n",
       "      <th></th>\n",
       "      <th>Survived</th>\n",
       "      <th>Probability</th>\n",
       "    </tr>\n",
       "  </thead>\n",
       "  <tbody>\n",
       "    <tr>\n",
       "      <td>0</td>\n",
       "      <td>0.0</td>\n",
       "      <td>0.086462</td>\n",
       "    </tr>\n",
       "    <tr>\n",
       "      <td>1</td>\n",
       "      <td>1.0</td>\n",
       "      <td>0.912447</td>\n",
       "    </tr>\n",
       "    <tr>\n",
       "      <td>2</td>\n",
       "      <td>1.0</td>\n",
       "      <td>0.627374</td>\n",
       "    </tr>\n",
       "    <tr>\n",
       "      <td>3</td>\n",
       "      <td>1.0</td>\n",
       "      <td>0.898247</td>\n",
       "    </tr>\n",
       "    <tr>\n",
       "      <td>4</td>\n",
       "      <td>0.0</td>\n",
       "      <td>0.072861</td>\n",
       "    </tr>\n",
       "    <tr>\n",
       "      <td>...</td>\n",
       "      <td>...</td>\n",
       "      <td>...</td>\n",
       "    </tr>\n",
       "    <tr>\n",
       "      <td>884</td>\n",
       "      <td>0.0</td>\n",
       "      <td>0.250897</td>\n",
       "    </tr>\n",
       "    <tr>\n",
       "      <td>885</td>\n",
       "      <td>1.0</td>\n",
       "      <td>0.956535</td>\n",
       "    </tr>\n",
       "    <tr>\n",
       "      <td>886</td>\n",
       "      <td>0.0</td>\n",
       "      <td>0.495235</td>\n",
       "    </tr>\n",
       "    <tr>\n",
       "      <td>887</td>\n",
       "      <td>1.0</td>\n",
       "      <td>0.586585</td>\n",
       "    </tr>\n",
       "    <tr>\n",
       "      <td>888</td>\n",
       "      <td>0.0</td>\n",
       "      <td>0.126196</td>\n",
       "    </tr>\n",
       "  </tbody>\n",
       "</table>\n",
       "<p>889 rows × 2 columns</p>\n",
       "</div>"
      ],
      "text/plain": [
       "     Survived  Probability\n",
       "0         0.0     0.086462\n",
       "1         1.0     0.912447\n",
       "2         1.0     0.627374\n",
       "3         1.0     0.898247\n",
       "4         0.0     0.072861\n",
       "..        ...          ...\n",
       "884       0.0     0.250897\n",
       "885       1.0     0.956535\n",
       "886       0.0     0.495235\n",
       "887       1.0     0.586585\n",
       "888       0.0     0.126196\n",
       "\n",
       "[889 rows x 2 columns]"
      ]
     },
     "execution_count": 49,
     "metadata": {},
     "output_type": "execute_result"
    }
   ],
   "source": [
    "fn_train"
   ]
  },
  {
   "cell_type": "code",
   "execution_count": 50,
   "metadata": {},
   "outputs": [],
   "source": [
    "fn_train['Prediction'] = fn_train.Probability.map(lambda x: 1 if x>0.65 else 0)"
   ]
  },
  {
   "cell_type": "code",
   "execution_count": 51,
   "metadata": {},
   "outputs": [
    {
     "data": {
      "text/html": [
       "<div>\n",
       "<style scoped>\n",
       "    .dataframe tbody tr th:only-of-type {\n",
       "        vertical-align: middle;\n",
       "    }\n",
       "\n",
       "    .dataframe tbody tr th {\n",
       "        vertical-align: top;\n",
       "    }\n",
       "\n",
       "    .dataframe thead th {\n",
       "        text-align: right;\n",
       "    }\n",
       "</style>\n",
       "<table border=\"1\" class=\"dataframe\">\n",
       "  <thead>\n",
       "    <tr style=\"text-align: right;\">\n",
       "      <th></th>\n",
       "      <th>Survived</th>\n",
       "      <th>Probability</th>\n",
       "      <th>Prediction</th>\n",
       "    </tr>\n",
       "  </thead>\n",
       "  <tbody>\n",
       "    <tr>\n",
       "      <td>0</td>\n",
       "      <td>0.0</td>\n",
       "      <td>0.086462</td>\n",
       "      <td>0</td>\n",
       "    </tr>\n",
       "    <tr>\n",
       "      <td>1</td>\n",
       "      <td>1.0</td>\n",
       "      <td>0.912447</td>\n",
       "      <td>1</td>\n",
       "    </tr>\n",
       "    <tr>\n",
       "      <td>2</td>\n",
       "      <td>1.0</td>\n",
       "      <td>0.627374</td>\n",
       "      <td>0</td>\n",
       "    </tr>\n",
       "    <tr>\n",
       "      <td>3</td>\n",
       "      <td>1.0</td>\n",
       "      <td>0.898247</td>\n",
       "      <td>1</td>\n",
       "    </tr>\n",
       "    <tr>\n",
       "      <td>4</td>\n",
       "      <td>0.0</td>\n",
       "      <td>0.072861</td>\n",
       "      <td>0</td>\n",
       "    </tr>\n",
       "    <tr>\n",
       "      <td>...</td>\n",
       "      <td>...</td>\n",
       "      <td>...</td>\n",
       "      <td>...</td>\n",
       "    </tr>\n",
       "    <tr>\n",
       "      <td>884</td>\n",
       "      <td>0.0</td>\n",
       "      <td>0.250897</td>\n",
       "      <td>0</td>\n",
       "    </tr>\n",
       "    <tr>\n",
       "      <td>885</td>\n",
       "      <td>1.0</td>\n",
       "      <td>0.956535</td>\n",
       "      <td>1</td>\n",
       "    </tr>\n",
       "    <tr>\n",
       "      <td>886</td>\n",
       "      <td>0.0</td>\n",
       "      <td>0.495235</td>\n",
       "      <td>0</td>\n",
       "    </tr>\n",
       "    <tr>\n",
       "      <td>887</td>\n",
       "      <td>1.0</td>\n",
       "      <td>0.586585</td>\n",
       "      <td>0</td>\n",
       "    </tr>\n",
       "    <tr>\n",
       "      <td>888</td>\n",
       "      <td>0.0</td>\n",
       "      <td>0.126196</td>\n",
       "      <td>0</td>\n",
       "    </tr>\n",
       "  </tbody>\n",
       "</table>\n",
       "<p>889 rows × 3 columns</p>\n",
       "</div>"
      ],
      "text/plain": [
       "     Survived  Probability  Prediction\n",
       "0         0.0     0.086462           0\n",
       "1         1.0     0.912447           1\n",
       "2         1.0     0.627374           0\n",
       "3         1.0     0.898247           1\n",
       "4         0.0     0.072861           0\n",
       "..        ...          ...         ...\n",
       "884       0.0     0.250897           0\n",
       "885       1.0     0.956535           1\n",
       "886       0.0     0.495235           0\n",
       "887       1.0     0.586585           0\n",
       "888       0.0     0.126196           0\n",
       "\n",
       "[889 rows x 3 columns]"
      ]
     },
     "execution_count": 51,
     "metadata": {},
     "output_type": "execute_result"
    }
   ],
   "source": [
    "fn_train"
   ]
  },
  {
   "cell_type": "code",
   "execution_count": 52,
   "metadata": {},
   "outputs": [],
   "source": [
    "# importing library for analysis of prediction of training data\n",
    "from sklearn import metrics"
   ]
  },
  {
   "cell_type": "code",
   "execution_count": 53,
   "metadata": {},
   "outputs": [],
   "source": [
    "# creating confusion matrix\n",
    "cf = metrics.confusion_matrix(fn_train.Survived, fn_train.Prediction)"
   ]
  },
  {
   "cell_type": "code",
   "execution_count": 54,
   "metadata": {},
   "outputs": [
    {
     "data": {
      "text/plain": [
       "array([[519,  30],\n",
       "       [133, 207]], dtype=int64)"
      ]
     },
     "execution_count": 54,
     "metadata": {},
     "output_type": "execute_result"
    }
   ],
   "source": [
    "cf "
   ]
  },
  {
   "cell_type": "code",
   "execution_count": 55,
   "metadata": {},
   "outputs": [
    {
     "name": "stdout",
     "output_type": "stream",
     "text": [
      "0.8166479190101237\n"
     ]
    }
   ],
   "source": [
    "print(metrics.accuracy_score(fn_train.Survived, fn_train.Prediction))"
   ]
  },
  {
   "cell_type": "code",
   "execution_count": 56,
   "metadata": {},
   "outputs": [],
   "source": [
    "# finding mid value\n",
    "n = [0.00, 0.10, 0.20, 0.30, 0.40, 0.50, 0.60, 0.70, 0.80, 0.90]\n",
    "for i in n:\n",
    "    fn_train[i] = fn_train.Probability.map(lambda x: 1 if x>i else 0)"
   ]
  },
  {
   "cell_type": "code",
   "execution_count": 57,
   "metadata": {},
   "outputs": [
    {
     "data": {
      "text/html": [
       "<div>\n",
       "<style scoped>\n",
       "    .dataframe tbody tr th:only-of-type {\n",
       "        vertical-align: middle;\n",
       "    }\n",
       "\n",
       "    .dataframe tbody tr th {\n",
       "        vertical-align: top;\n",
       "    }\n",
       "\n",
       "    .dataframe thead th {\n",
       "        text-align: right;\n",
       "    }\n",
       "</style>\n",
       "<table border=\"1\" class=\"dataframe\">\n",
       "  <thead>\n",
       "    <tr style=\"text-align: right;\">\n",
       "      <th></th>\n",
       "      <th>Survived</th>\n",
       "      <th>Probability</th>\n",
       "      <th>Prediction</th>\n",
       "      <th>0.0</th>\n",
       "      <th>0.1</th>\n",
       "      <th>0.2</th>\n",
       "      <th>0.3</th>\n",
       "      <th>0.4</th>\n",
       "      <th>0.5</th>\n",
       "      <th>0.6</th>\n",
       "      <th>0.7</th>\n",
       "      <th>0.8</th>\n",
       "      <th>0.9</th>\n",
       "    </tr>\n",
       "  </thead>\n",
       "  <tbody>\n",
       "    <tr>\n",
       "      <td>0</td>\n",
       "      <td>0.0</td>\n",
       "      <td>0.086462</td>\n",
       "      <td>0</td>\n",
       "      <td>1</td>\n",
       "      <td>0</td>\n",
       "      <td>0</td>\n",
       "      <td>0</td>\n",
       "      <td>0</td>\n",
       "      <td>0</td>\n",
       "      <td>0</td>\n",
       "      <td>0</td>\n",
       "      <td>0</td>\n",
       "      <td>0</td>\n",
       "    </tr>\n",
       "    <tr>\n",
       "      <td>1</td>\n",
       "      <td>1.0</td>\n",
       "      <td>0.912447</td>\n",
       "      <td>1</td>\n",
       "      <td>1</td>\n",
       "      <td>1</td>\n",
       "      <td>1</td>\n",
       "      <td>1</td>\n",
       "      <td>1</td>\n",
       "      <td>1</td>\n",
       "      <td>1</td>\n",
       "      <td>1</td>\n",
       "      <td>1</td>\n",
       "      <td>1</td>\n",
       "    </tr>\n",
       "    <tr>\n",
       "      <td>2</td>\n",
       "      <td>1.0</td>\n",
       "      <td>0.627374</td>\n",
       "      <td>0</td>\n",
       "      <td>1</td>\n",
       "      <td>1</td>\n",
       "      <td>1</td>\n",
       "      <td>1</td>\n",
       "      <td>1</td>\n",
       "      <td>1</td>\n",
       "      <td>1</td>\n",
       "      <td>0</td>\n",
       "      <td>0</td>\n",
       "      <td>0</td>\n",
       "    </tr>\n",
       "    <tr>\n",
       "      <td>3</td>\n",
       "      <td>1.0</td>\n",
       "      <td>0.898247</td>\n",
       "      <td>1</td>\n",
       "      <td>1</td>\n",
       "      <td>1</td>\n",
       "      <td>1</td>\n",
       "      <td>1</td>\n",
       "      <td>1</td>\n",
       "      <td>1</td>\n",
       "      <td>1</td>\n",
       "      <td>1</td>\n",
       "      <td>1</td>\n",
       "      <td>0</td>\n",
       "    </tr>\n",
       "    <tr>\n",
       "      <td>4</td>\n",
       "      <td>0.0</td>\n",
       "      <td>0.072861</td>\n",
       "      <td>0</td>\n",
       "      <td>1</td>\n",
       "      <td>0</td>\n",
       "      <td>0</td>\n",
       "      <td>0</td>\n",
       "      <td>0</td>\n",
       "      <td>0</td>\n",
       "      <td>0</td>\n",
       "      <td>0</td>\n",
       "      <td>0</td>\n",
       "      <td>0</td>\n",
       "    </tr>\n",
       "    <tr>\n",
       "      <td>...</td>\n",
       "      <td>...</td>\n",
       "      <td>...</td>\n",
       "      <td>...</td>\n",
       "      <td>...</td>\n",
       "      <td>...</td>\n",
       "      <td>...</td>\n",
       "      <td>...</td>\n",
       "      <td>...</td>\n",
       "      <td>...</td>\n",
       "      <td>...</td>\n",
       "      <td>...</td>\n",
       "      <td>...</td>\n",
       "      <td>...</td>\n",
       "    </tr>\n",
       "    <tr>\n",
       "      <td>884</td>\n",
       "      <td>0.0</td>\n",
       "      <td>0.250897</td>\n",
       "      <td>0</td>\n",
       "      <td>1</td>\n",
       "      <td>1</td>\n",
       "      <td>1</td>\n",
       "      <td>0</td>\n",
       "      <td>0</td>\n",
       "      <td>0</td>\n",
       "      <td>0</td>\n",
       "      <td>0</td>\n",
       "      <td>0</td>\n",
       "      <td>0</td>\n",
       "    </tr>\n",
       "    <tr>\n",
       "      <td>885</td>\n",
       "      <td>1.0</td>\n",
       "      <td>0.956535</td>\n",
       "      <td>1</td>\n",
       "      <td>1</td>\n",
       "      <td>1</td>\n",
       "      <td>1</td>\n",
       "      <td>1</td>\n",
       "      <td>1</td>\n",
       "      <td>1</td>\n",
       "      <td>1</td>\n",
       "      <td>1</td>\n",
       "      <td>1</td>\n",
       "      <td>1</td>\n",
       "    </tr>\n",
       "    <tr>\n",
       "      <td>886</td>\n",
       "      <td>0.0</td>\n",
       "      <td>0.495235</td>\n",
       "      <td>0</td>\n",
       "      <td>1</td>\n",
       "      <td>1</td>\n",
       "      <td>1</td>\n",
       "      <td>1</td>\n",
       "      <td>1</td>\n",
       "      <td>0</td>\n",
       "      <td>0</td>\n",
       "      <td>0</td>\n",
       "      <td>0</td>\n",
       "      <td>0</td>\n",
       "    </tr>\n",
       "    <tr>\n",
       "      <td>887</td>\n",
       "      <td>1.0</td>\n",
       "      <td>0.586585</td>\n",
       "      <td>0</td>\n",
       "      <td>1</td>\n",
       "      <td>1</td>\n",
       "      <td>1</td>\n",
       "      <td>1</td>\n",
       "      <td>1</td>\n",
       "      <td>1</td>\n",
       "      <td>0</td>\n",
       "      <td>0</td>\n",
       "      <td>0</td>\n",
       "      <td>0</td>\n",
       "    </tr>\n",
       "    <tr>\n",
       "      <td>888</td>\n",
       "      <td>0.0</td>\n",
       "      <td>0.126196</td>\n",
       "      <td>0</td>\n",
       "      <td>1</td>\n",
       "      <td>1</td>\n",
       "      <td>0</td>\n",
       "      <td>0</td>\n",
       "      <td>0</td>\n",
       "      <td>0</td>\n",
       "      <td>0</td>\n",
       "      <td>0</td>\n",
       "      <td>0</td>\n",
       "      <td>0</td>\n",
       "    </tr>\n",
       "  </tbody>\n",
       "</table>\n",
       "<p>889 rows × 13 columns</p>\n",
       "</div>"
      ],
      "text/plain": [
       "     Survived  Probability  Prediction  0.0  0.1  0.2  0.3  0.4  0.5  0.6  \\\n",
       "0         0.0     0.086462           0    1    0    0    0    0    0    0   \n",
       "1         1.0     0.912447           1    1    1    1    1    1    1    1   \n",
       "2         1.0     0.627374           0    1    1    1    1    1    1    1   \n",
       "3         1.0     0.898247           1    1    1    1    1    1    1    1   \n",
       "4         0.0     0.072861           0    1    0    0    0    0    0    0   \n",
       "..        ...          ...         ...  ...  ...  ...  ...  ...  ...  ...   \n",
       "884       0.0     0.250897           0    1    1    1    0    0    0    0   \n",
       "885       1.0     0.956535           1    1    1    1    1    1    1    1   \n",
       "886       0.0     0.495235           0    1    1    1    1    1    0    0   \n",
       "887       1.0     0.586585           0    1    1    1    1    1    1    0   \n",
       "888       0.0     0.126196           0    1    1    0    0    0    0    0   \n",
       "\n",
       "     0.7  0.8  0.9  \n",
       "0      0    0    0  \n",
       "1      1    1    1  \n",
       "2      0    0    0  \n",
       "3      1    1    0  \n",
       "4      0    0    0  \n",
       "..   ...  ...  ...  \n",
       "884    0    0    0  \n",
       "885    1    1    1  \n",
       "886    0    0    0  \n",
       "887    0    0    0  \n",
       "888    0    0    0  \n",
       "\n",
       "[889 rows x 13 columns]"
      ]
     },
     "execution_count": 57,
     "metadata": {},
     "output_type": "execute_result"
    }
   ],
   "source": [
    "fn_train"
   ]
  },
  {
   "cell_type": "code",
   "execution_count": 58,
   "metadata": {},
   "outputs": [
    {
     "name": "stdout",
     "output_type": "stream",
     "text": [
      "     Prd       Acc      Sens      Spec\n",
      "0.0  0.0  0.382452  1.000000  0.000000\n",
      "0.1  0.1  0.554556  0.932353  0.320583\n",
      "0.2  0.2  0.713161  0.852941  0.626594\n",
      "0.3  0.3  0.773903  0.820588  0.744991\n",
      "0.4  0.4  0.788526  0.755882  0.808743\n",
      "0.5  0.5  0.799775  0.714706  0.852459\n",
      "0.6  0.6  0.814398  0.647059  0.918033\n",
      "0.7  0.7  0.803150  0.544118  0.963570\n",
      "0.8  0.8  0.758155  0.382353  0.990893\n",
      "0.9  0.9  0.696288  0.211765  0.996357\n"
     ]
    }
   ],
   "source": [
    "df1 = pd.DataFrame(columns = ['Prd', 'Acc', 'Sens', 'Spec'])\n",
    "for i in n:\n",
    "    cf2 = metrics.confusion_matrix(fn_train.Survived , fn_train[i])\n",
    "    tot = sum(sum(cf2))\n",
    "    Acc = (cf2[0,0]+cf2[1,1])/tot\n",
    "    Spec = cf2[0,0]/(cf2[0,0]+cf2[0,1])\n",
    "    Sens = cf2[1,1]/(cf2[1,0]+cf2[1,1])\n",
    "    df1.loc[i] = [i, Acc, Sens, Spec]\n",
    "print(df1)"
   ]
  },
  {
   "cell_type": "code",
   "execution_count": 59,
   "metadata": {},
   "outputs": [
    {
     "data": {
      "text/plain": [
       "<Figure size 640x480 with 1 Axes>"
      ]
     },
     "metadata": {},
     "output_type": "display_data"
    }
   ],
   "source": [
    "# plotting graph between accuracy,senstivity, specificity to prediction\n",
    "import matplotlib.pyplot as plt\n",
    "df1.plot.line(x='Prd', y=['Acc','Sens','Spec'])\n",
    "plt.show()"
   ]
  },
  {
   "cell_type": "code",
   "execution_count": 60,
   "metadata": {},
   "outputs": [],
   "source": [
    "# importing library for precision and recall\n",
    "from sklearn.metrics import precision_recall_curve"
   ]
  },
  {
   "cell_type": "code",
   "execution_count": 61,
   "metadata": {},
   "outputs": [
    {
     "data": {
      "text/plain": [
       "(0      0.0\n",
       " 1      1.0\n",
       " 2      1.0\n",
       " 3      1.0\n",
       " 4      0.0\n",
       "       ... \n",
       " 884    0.0\n",
       " 885    1.0\n",
       " 886    0.0\n",
       " 887    1.0\n",
       " 888    0.0\n",
       " Name: Survived, Length: 889, dtype: float64, 0      0\n",
       " 1      1\n",
       " 2      0\n",
       " 3      1\n",
       " 4      0\n",
       "       ..\n",
       " 884    0\n",
       " 885    1\n",
       " 886    0\n",
       " 887    0\n",
       " 888    0\n",
       " Name: Prediction, Length: 889, dtype: int64)"
      ]
     },
     "execution_count": 61,
     "metadata": {},
     "output_type": "execute_result"
    }
   ],
   "source": [
    "fn_train.Survived,fn_train.Prediction"
   ]
  },
  {
   "cell_type": "code",
   "execution_count": 62,
   "metadata": {},
   "outputs": [],
   "source": [
    "pre, rcl, mid_value = precision_recall_curve(fn_train.Survived,fn_train.Probability)"
   ]
  },
  {
   "cell_type": "code",
   "execution_count": 63,
   "metadata": {},
   "outputs": [
    {
     "data": {
      "image/png": "[encoded data removed]",
      "text/plain": [
       "<Figure size 432x288 with 1 Axes>"
      ]
     },
     "metadata": {
      "needs_background": "light"
     },
     "output_type": "display_data"
    }
   ],
   "source": [
    "# plotting graph of precision and recall\n",
    "plt.plot(mid_value, pre[:-1], \"b-\")\n",
    "plt.plot(mid_value, rcl[:-1], \"r-\")\n",
    "plt.show()"
   ]
  },
  {
   "cell_type": "code",
   "execution_count": 64,
   "metadata": {},
   "outputs": [
    {
     "data": {
      "text/html": [
       "<div>\n",
       "<style scoped>\n",
       "    .dataframe tbody tr th:only-of-type {\n",
       "        vertical-align: middle;\n",
       "    }\n",
       "\n",
       "    .dataframe tbody tr th {\n",
       "        vertical-align: top;\n",
       "    }\n",
       "\n",
       "    .dataframe thead th {\n",
       "        text-align: right;\n",
       "    }\n",
       "</style>\n",
       "<table border=\"1\" class=\"dataframe\">\n",
       "  <thead>\n",
       "    <tr style=\"text-align: right;\">\n",
       "      <th></th>\n",
       "      <th>Pclass</th>\n",
       "      <th>Sex</th>\n",
       "      <th>Age</th>\n",
       "      <th>SibSp</th>\n",
       "      <th>Parch</th>\n",
       "      <th>Fare</th>\n",
       "      <th>Embarked</th>\n",
       "    </tr>\n",
       "  </thead>\n",
       "  <tbody>\n",
       "    <tr>\n",
       "      <td>0</td>\n",
       "      <td>1.0</td>\n",
       "      <td>0.0</td>\n",
       "      <td>0.447368</td>\n",
       "      <td>0.000</td>\n",
       "      <td>0.000000</td>\n",
       "      <td>0.013672</td>\n",
       "      <td>1.0</td>\n",
       "    </tr>\n",
       "    <tr>\n",
       "      <td>1</td>\n",
       "      <td>1.0</td>\n",
       "      <td>1.0</td>\n",
       "      <td>0.618421</td>\n",
       "      <td>0.125</td>\n",
       "      <td>0.000000</td>\n",
       "      <td>0.013672</td>\n",
       "      <td>0.0</td>\n",
       "    </tr>\n",
       "    <tr>\n",
       "      <td>2</td>\n",
       "      <td>0.5</td>\n",
       "      <td>0.0</td>\n",
       "      <td>0.815789</td>\n",
       "      <td>0.000</td>\n",
       "      <td>0.000000</td>\n",
       "      <td>0.017578</td>\n",
       "      <td>1.0</td>\n",
       "    </tr>\n",
       "    <tr>\n",
       "      <td>3</td>\n",
       "      <td>1.0</td>\n",
       "      <td>0.0</td>\n",
       "      <td>0.355263</td>\n",
       "      <td>0.000</td>\n",
       "      <td>0.000000</td>\n",
       "      <td>0.015625</td>\n",
       "      <td>0.0</td>\n",
       "    </tr>\n",
       "    <tr>\n",
       "      <td>4</td>\n",
       "      <td>1.0</td>\n",
       "      <td>1.0</td>\n",
       "      <td>0.289474</td>\n",
       "      <td>0.125</td>\n",
       "      <td>0.111111</td>\n",
       "      <td>0.023438</td>\n",
       "      <td>0.0</td>\n",
       "    </tr>\n",
       "  </tbody>\n",
       "</table>\n",
       "</div>"
      ],
      "text/plain": [
       "   Pclass  Sex       Age  SibSp     Parch      Fare  Embarked\n",
       "0     1.0  0.0  0.447368  0.000  0.000000  0.013672       1.0\n",
       "1     1.0  1.0  0.618421  0.125  0.000000  0.013672       0.0\n",
       "2     0.5  0.0  0.815789  0.000  0.000000  0.017578       1.0\n",
       "3     1.0  0.0  0.355263  0.000  0.000000  0.015625       0.0\n",
       "4     1.0  1.0  0.289474  0.125  0.111111  0.023438       0.0"
      ]
     },
     "execution_count": 64,
     "metadata": {},
     "output_type": "execute_result"
    }
   ],
   "source": [
    "# testing model\n",
    "test_x = test_df\n",
    "test_x = test_x[col]\n",
    "test_x.head()"
   ]
  },
  {
   "cell_type": "code",
   "execution_count": 65,
   "metadata": {},
   "outputs": [
    {
     "data": {
      "text/plain": [
       "0      0.110510\n",
       "1      0.323084\n",
       "2      0.106137\n",
       "3      0.092605\n",
       "4      0.564826\n",
       "         ...   \n",
       "413    0.092605\n",
       "414    0.932879\n",
       "415    0.060407\n",
       "416    0.092605\n",
       "417    0.083949\n",
       "Length: 418, dtype: float64"
      ]
     },
     "execution_count": 65,
     "metadata": {},
     "output_type": "execute_result"
    }
   ],
   "source": [
    "test_x_rs = sm.add_constant(test_x)\n",
    "test_pred_y = res.predict(test_x_rs)\n",
    "test_pred_y"
   ]
  },
  {
   "cell_type": "code",
   "execution_count": 66,
   "metadata": {},
   "outputs": [],
   "source": [
    "# reading csv\n",
    "sol = pd.read_csv(\"gender_submission.csv\")"
   ]
  },
  {
   "cell_type": "code",
   "execution_count": 67,
   "metadata": {},
   "outputs": [
    {
     "data": {
      "text/plain": [
       "0      0\n",
       "1      1\n",
       "2      0\n",
       "3      0\n",
       "4      1\n",
       "      ..\n",
       "413    0\n",
       "414    1\n",
       "415    0\n",
       "416    0\n",
       "417    0\n",
       "Name: Survived, Length: 418, dtype: int64"
      ]
     },
     "execution_count": 67,
     "metadata": {},
     "output_type": "execute_result"
    }
   ],
   "source": [
    "test_y = sol[\"Survived\"]\n",
    "test_y"
   ]
  },
  {
   "cell_type": "code",
   "execution_count": 68,
   "metadata": {},
   "outputs": [
    {
     "data": {
      "text/html": [
       "<div>\n",
       "<style scoped>\n",
       "    .dataframe tbody tr th:only-of-type {\n",
       "        vertical-align: middle;\n",
       "    }\n",
       "\n",
       "    .dataframe tbody tr th {\n",
       "        vertical-align: top;\n",
       "    }\n",
       "\n",
       "    .dataframe thead th {\n",
       "        text-align: right;\n",
       "    }\n",
       "</style>\n",
       "<table border=\"1\" class=\"dataframe\">\n",
       "  <thead>\n",
       "    <tr style=\"text-align: right;\">\n",
       "      <th></th>\n",
       "      <th>Survived</th>\n",
       "      <th>PassengerId</th>\n",
       "      <th>0</th>\n",
       "    </tr>\n",
       "  </thead>\n",
       "  <tbody>\n",
       "    <tr>\n",
       "      <td>0</td>\n",
       "      <td>0</td>\n",
       "      <td>0</td>\n",
       "      <td>0.110510</td>\n",
       "    </tr>\n",
       "    <tr>\n",
       "      <td>1</td>\n",
       "      <td>1</td>\n",
       "      <td>1</td>\n",
       "      <td>0.323084</td>\n",
       "    </tr>\n",
       "    <tr>\n",
       "      <td>2</td>\n",
       "      <td>0</td>\n",
       "      <td>2</td>\n",
       "      <td>0.106137</td>\n",
       "    </tr>\n",
       "    <tr>\n",
       "      <td>3</td>\n",
       "      <td>0</td>\n",
       "      <td>3</td>\n",
       "      <td>0.092605</td>\n",
       "    </tr>\n",
       "    <tr>\n",
       "      <td>4</td>\n",
       "      <td>1</td>\n",
       "      <td>4</td>\n",
       "      <td>0.564826</td>\n",
       "    </tr>\n",
       "    <tr>\n",
       "      <td>...</td>\n",
       "      <td>...</td>\n",
       "      <td>...</td>\n",
       "      <td>...</td>\n",
       "    </tr>\n",
       "    <tr>\n",
       "      <td>413</td>\n",
       "      <td>0</td>\n",
       "      <td>413</td>\n",
       "      <td>0.092605</td>\n",
       "    </tr>\n",
       "    <tr>\n",
       "      <td>414</td>\n",
       "      <td>1</td>\n",
       "      <td>414</td>\n",
       "      <td>0.932879</td>\n",
       "    </tr>\n",
       "    <tr>\n",
       "      <td>415</td>\n",
       "      <td>0</td>\n",
       "      <td>415</td>\n",
       "      <td>0.060407</td>\n",
       "    </tr>\n",
       "    <tr>\n",
       "      <td>416</td>\n",
       "      <td>0</td>\n",
       "      <td>416</td>\n",
       "      <td>0.092605</td>\n",
       "    </tr>\n",
       "    <tr>\n",
       "      <td>417</td>\n",
       "      <td>0</td>\n",
       "      <td>417</td>\n",
       "      <td>0.083949</td>\n",
       "    </tr>\n",
       "  </tbody>\n",
       "</table>\n",
       "<p>418 rows × 3 columns</p>\n",
       "</div>"
      ],
      "text/plain": [
       "     Survived  PassengerId         0\n",
       "0           0            0  0.110510\n",
       "1           1            1  0.323084\n",
       "2           0            2  0.106137\n",
       "3           0            3  0.092605\n",
       "4           1            4  0.564826\n",
       "..        ...          ...       ...\n",
       "413         0          413  0.092605\n",
       "414         1          414  0.932879\n",
       "415         0          415  0.060407\n",
       "416         0          416  0.092605\n",
       "417         0          417  0.083949\n",
       "\n",
       "[418 rows x 3 columns]"
      ]
     },
     "execution_count": 68,
     "metadata": {},
     "output_type": "execute_result"
    }
   ],
   "source": [
    "test_y_df = pd.DataFrame(test_y)\n",
    "test_y_df['PassengerId'] = test_y_df.index\n",
    "test_pred_y1 = pd.DataFrame(test_pred_y)\n",
    "test_pred_y1.reset_index(drop = True , inplace = True)\n",
    "test_y_df.reset_index(drop = True , inplace = True)\n",
    "fn_test = pd.concat([test_y_df, test_pred_y1], axis = 1)\n",
    "fn_test"
   ]
  },
  {
   "cell_type": "code",
   "execution_count": 69,
   "metadata": {},
   "outputs": [
    {
     "data": {
      "text/html": [
       "<div>\n",
       "<style scoped>\n",
       "    .dataframe tbody tr th:only-of-type {\n",
       "        vertical-align: middle;\n",
       "    }\n",
       "\n",
       "    .dataframe tbody tr th {\n",
       "        vertical-align: top;\n",
       "    }\n",
       "\n",
       "    .dataframe thead th {\n",
       "        text-align: right;\n",
       "    }\n",
       "</style>\n",
       "<table border=\"1\" class=\"dataframe\">\n",
       "  <thead>\n",
       "    <tr style=\"text-align: right;\">\n",
       "      <th></th>\n",
       "      <th>Survived</th>\n",
       "      <th>PassengerId</th>\n",
       "      <th>Probability</th>\n",
       "    </tr>\n",
       "  </thead>\n",
       "  <tbody>\n",
       "    <tr>\n",
       "      <td>0</td>\n",
       "      <td>0</td>\n",
       "      <td>0</td>\n",
       "      <td>0.110510</td>\n",
       "    </tr>\n",
       "    <tr>\n",
       "      <td>1</td>\n",
       "      <td>1</td>\n",
       "      <td>1</td>\n",
       "      <td>0.323084</td>\n",
       "    </tr>\n",
       "    <tr>\n",
       "      <td>2</td>\n",
       "      <td>0</td>\n",
       "      <td>2</td>\n",
       "      <td>0.106137</td>\n",
       "    </tr>\n",
       "    <tr>\n",
       "      <td>3</td>\n",
       "      <td>0</td>\n",
       "      <td>3</td>\n",
       "      <td>0.092605</td>\n",
       "    </tr>\n",
       "    <tr>\n",
       "      <td>4</td>\n",
       "      <td>1</td>\n",
       "      <td>4</td>\n",
       "      <td>0.564826</td>\n",
       "    </tr>\n",
       "    <tr>\n",
       "      <td>...</td>\n",
       "      <td>...</td>\n",
       "      <td>...</td>\n",
       "      <td>...</td>\n",
       "    </tr>\n",
       "    <tr>\n",
       "      <td>413</td>\n",
       "      <td>0</td>\n",
       "      <td>413</td>\n",
       "      <td>0.092605</td>\n",
       "    </tr>\n",
       "    <tr>\n",
       "      <td>414</td>\n",
       "      <td>1</td>\n",
       "      <td>414</td>\n",
       "      <td>0.932879</td>\n",
       "    </tr>\n",
       "    <tr>\n",
       "      <td>415</td>\n",
       "      <td>0</td>\n",
       "      <td>415</td>\n",
       "      <td>0.060407</td>\n",
       "    </tr>\n",
       "    <tr>\n",
       "      <td>416</td>\n",
       "      <td>0</td>\n",
       "      <td>416</td>\n",
       "      <td>0.092605</td>\n",
       "    </tr>\n",
       "    <tr>\n",
       "      <td>417</td>\n",
       "      <td>0</td>\n",
       "      <td>417</td>\n",
       "      <td>0.083949</td>\n",
       "    </tr>\n",
       "  </tbody>\n",
       "</table>\n",
       "<p>418 rows × 3 columns</p>\n",
       "</div>"
      ],
      "text/plain": [
       "     Survived  PassengerId  Probability\n",
       "0           0            0     0.110510\n",
       "1           1            1     0.323084\n",
       "2           0            2     0.106137\n",
       "3           0            3     0.092605\n",
       "4           1            4     0.564826\n",
       "..        ...          ...          ...\n",
       "413         0          413     0.092605\n",
       "414         1          414     0.932879\n",
       "415         0          415     0.060407\n",
       "416         0          416     0.092605\n",
       "417         0          417     0.083949\n",
       "\n",
       "[418 rows x 3 columns]"
      ]
     },
     "execution_count": 69,
     "metadata": {},
     "output_type": "execute_result"
    }
   ],
   "source": [
    "fn_test = fn_test.rename(columns = {0 : 'Probability'})\n",
    "fn_test"
   ]
  },
  {
   "cell_type": "code",
   "execution_count": 70,
   "metadata": {},
   "outputs": [
    {
     "data": {
      "text/html": [
       "<div>\n",
       "<style scoped>\n",
       "    .dataframe tbody tr th:only-of-type {\n",
       "        vertical-align: middle;\n",
       "    }\n",
       "\n",
       "    .dataframe tbody tr th {\n",
       "        vertical-align: top;\n",
       "    }\n",
       "\n",
       "    .dataframe thead th {\n",
       "        text-align: right;\n",
       "    }\n",
       "</style>\n",
       "<table border=\"1\" class=\"dataframe\">\n",
       "  <thead>\n",
       "    <tr style=\"text-align: right;\">\n",
       "      <th></th>\n",
       "      <th>Survived</th>\n",
       "      <th>PassengerId</th>\n",
       "      <th>Probability</th>\n",
       "      <th>Prediction</th>\n",
       "    </tr>\n",
       "  </thead>\n",
       "  <tbody>\n",
       "    <tr>\n",
       "      <td>0</td>\n",
       "      <td>0</td>\n",
       "      <td>0</td>\n",
       "      <td>0.110510</td>\n",
       "      <td>0</td>\n",
       "    </tr>\n",
       "    <tr>\n",
       "      <td>1</td>\n",
       "      <td>1</td>\n",
       "      <td>1</td>\n",
       "      <td>0.323084</td>\n",
       "      <td>0</td>\n",
       "    </tr>\n",
       "    <tr>\n",
       "      <td>2</td>\n",
       "      <td>0</td>\n",
       "      <td>2</td>\n",
       "      <td>0.106137</td>\n",
       "      <td>0</td>\n",
       "    </tr>\n",
       "    <tr>\n",
       "      <td>3</td>\n",
       "      <td>0</td>\n",
       "      <td>3</td>\n",
       "      <td>0.092605</td>\n",
       "      <td>0</td>\n",
       "    </tr>\n",
       "    <tr>\n",
       "      <td>4</td>\n",
       "      <td>1</td>\n",
       "      <td>4</td>\n",
       "      <td>0.564826</td>\n",
       "      <td>1</td>\n",
       "    </tr>\n",
       "    <tr>\n",
       "      <td>...</td>\n",
       "      <td>...</td>\n",
       "      <td>...</td>\n",
       "      <td>...</td>\n",
       "      <td>...</td>\n",
       "    </tr>\n",
       "    <tr>\n",
       "      <td>413</td>\n",
       "      <td>0</td>\n",
       "      <td>413</td>\n",
       "      <td>0.092605</td>\n",
       "      <td>0</td>\n",
       "    </tr>\n",
       "    <tr>\n",
       "      <td>414</td>\n",
       "      <td>1</td>\n",
       "      <td>414</td>\n",
       "      <td>0.932879</td>\n",
       "      <td>1</td>\n",
       "    </tr>\n",
       "    <tr>\n",
       "      <td>415</td>\n",
       "      <td>0</td>\n",
       "      <td>415</td>\n",
       "      <td>0.060407</td>\n",
       "      <td>0</td>\n",
       "    </tr>\n",
       "    <tr>\n",
       "      <td>416</td>\n",
       "      <td>0</td>\n",
       "      <td>416</td>\n",
       "      <td>0.092605</td>\n",
       "      <td>0</td>\n",
       "    </tr>\n",
       "    <tr>\n",
       "      <td>417</td>\n",
       "      <td>0</td>\n",
       "      <td>417</td>\n",
       "      <td>0.083949</td>\n",
       "      <td>0</td>\n",
       "    </tr>\n",
       "  </tbody>\n",
       "</table>\n",
       "<p>418 rows × 4 columns</p>\n",
       "</div>"
      ],
      "text/plain": [
       "     Survived  PassengerId  Probability  Prediction\n",
       "0           0            0     0.110510           0\n",
       "1           1            1     0.323084           0\n",
       "2           0            2     0.106137           0\n",
       "3           0            3     0.092605           0\n",
       "4           1            4     0.564826           1\n",
       "..        ...          ...          ...         ...\n",
       "413         0          413     0.092605           0\n",
       "414         1          414     0.932879           1\n",
       "415         0          415     0.060407           0\n",
       "416         0          416     0.092605           0\n",
       "417         0          417     0.083949           0\n",
       "\n",
       "[418 rows x 4 columns]"
      ]
     },
     "execution_count": 70,
     "metadata": {},
     "output_type": "execute_result"
    }
   ],
   "source": [
    "mm = (0.38+0.48)/2\n",
    "fn_test['Prediction'] = fn_test.Probability.map(lambda x: 1 if x>mm else 0)\n",
    "fn_test"
   ]
  },
  {
   "cell_type": "code",
   "execution_count": 71,
   "metadata": {},
   "outputs": [
    {
     "data": {
      "text/plain": [
       "0.9282296650717703"
      ]
     },
     "execution_count": 71,
     "metadata": {},
     "output_type": "execute_result"
    }
   ],
   "source": [
    "# analysis of testing \n",
    "metrics.accuracy_score(fn_test.Survived , fn_test.Prediction)"
   ]
  },
  {
   "cell_type": "code",
   "execution_count": 72,
   "metadata": {},
   "outputs": [],
   "source": [
    "cf2 = metrics.confusion_matrix(fn_test.Survived, fn_test.Prediction)"
   ]
  },
  {
   "cell_type": "code",
   "execution_count": 73,
   "metadata": {},
   "outputs": [
    {
     "data": {
      "text/plain": [
       "array([[241,  25],\n",
       "       [  5, 147]], dtype=int64)"
      ]
     },
     "execution_count": 73,
     "metadata": {},
     "output_type": "execute_result"
    }
   ],
   "source": [
    "cf2"
   ]
  },
  {
   "cell_type": "code",
   "execution_count": 74,
   "metadata": {},
   "outputs": [
    {
     "data": {
      "text/plain": [
       "0.9671052631578947"
      ]
     },
     "execution_count": 74,
     "metadata": {},
     "output_type": "execute_result"
    }
   ],
   "source": [
    "sensitivity = cf2[1,1]/float(cf2[1,1]+cf2[1,0])\n",
    "sensitivity"
   ]
  },
  {
   "cell_type": "code",
   "execution_count": 75,
   "metadata": {},
   "outputs": [
    {
     "data": {
      "text/plain": [
       "0.9060150375939849"
      ]
     },
     "execution_count": 75,
     "metadata": {},
     "output_type": "execute_result"
    }
   ],
   "source": [
    "specificity = cf2[0,0]/float(cf2[0,0]+cf2[0,1])\n",
    "specificity"
   ]
  },
  {
   "cell_type": "code",
   "execution_count": 76,
   "metadata": {},
   "outputs": [
    {
     "data": {
      "text/plain": [
       "0.9355639475004621"
      ]
     },
     "execution_count": 76,
     "metadata": {},
     "output_type": "execute_result"
    }
   ],
   "source": [
    "f1 = (2*sensitivity*specificity)/(sensitivity+specificity)\n",
    "f1"
   ]
  },
  {
   "cell_type": "code",
   "execution_count": 77,
   "metadata": {},
   "outputs": [],
   "source": [
    "# Generating csv file\n",
    "sol['Survived']=fn_test['Prediction']\n",
    "sol.to_csv (r'export_dataframe.csv', index = False, header=True)"
   ]
  }
 ],
 "metadata": {
  "kernelspec": {
   "display_name": "Python 3",
   "language": "python",
   "name": "python3"
  },
  "language_info": {
   "codemirror_mode": {
    "name": "ipython",
    "version": 3
   },
   "file_extension": ".py",
   "mimetype": "text/x-python",
   "name": "python",
   "nbconvert_exporter": "python",
   "pygments_lexer": "ipython3",
   "version": "3.7.4"
  }
 },
 "nbformat": 4,
 "nbformat_minor": 2
}
